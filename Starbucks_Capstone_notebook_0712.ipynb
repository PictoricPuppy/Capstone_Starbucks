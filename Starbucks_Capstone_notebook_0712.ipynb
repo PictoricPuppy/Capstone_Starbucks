{
 "cells": [
  {
   "cell_type": "markdown",
   "metadata": {},
   "source": [
    "# Starbucks Capstone Challenge\n",
    "\n",
    "### Introduction\n",
    "\n",
    "This data set contains simulated data that mimics customer behavior on the Starbucks rewards mobile app. Once every few days, Starbucks sends out an offer to users of the mobile app. An offer can be merely an advertisement for a drink or an actual offer such as a discount or BOGO (buy one, get one free). Some users might not receive any offer during certain weeks.\n",
    "\n",
    "Not all users receive the same offer, and that is the challenge to solve with this data set.\n",
    "\n",
    "Your task is to combine transaction, demographic and offer data to determine which demographic groups respond best to which offer a type. This data set is a simplified version of the real Starbucks app because the underlying simulator only has one product, whereas Starbucks actually sells dozens of products.\n",
    "\n",
    "Every offer has a validity period before the offer expires. As an example, a BOGO offer might be valid for only 5 days. You'll see in the data set that informational offers have a validity period even though these ads are merely providing information about a product; for example, if an informational offer has 7 days of validity, you can assume the customer is feeling the influence of the offer for 7 days after receiving the advertisement.\n",
    "\n",
    "You'll be given transactional data showing user purchases made on the app including the timestamp of purchase and the amount of money spent on a purchase. This transactional data also has a record for each offer that a user receives as well as a record for when a user actually views the offer. There are also records for when a user completes an offer. \n",
    "\n",
    "Keep in mind as well that someone using the app might make a purchase through the app without having received an offer or seen an offer.\n",
    "\n",
    "### Example\n",
    "\n",
    "To give an example, a user could receive a discount offer buy 10 dollars to get 2 off on Monday. The offer is valid for 10 days from receipt. If the customer accumulates at least 10 dollars in purchases during the validity period, the customer completes the offer.\n",
    "\n",
    "However, there are a few things to watch out for in this data set. Customers do not opt into the offers that they receive; in other words, a user can receive an offer, never actually view the offer, and still complete the offer. For example, a user might receive the \"buy 10 dollars get 2 dollars off offer\", but the user never opens the offer during the 10-day validity period. The customer spends 15 dollars during those ten days. There will be an offer completion record in the data set; however, the offer did not influence the customer because the customer never viewed the offer.\n",
    "\n",
    "### Cleaning\n",
    "\n",
    "This makes data cleaning especially important and tricky.\n",
    "\n",
    "You'll also want to take into account that some demographic groups will make purchases even if they don't receive an offer. From a business perspective, if a customer is going to make a 10-dollar purchase without an offer anyway, you wouldn't want to send a buy 10 dollars get 2 dollars off offer. You'll want to try to assess what a certain demographic group will buy when not receiving any offers.\n",
    "\n",
    "### Final Advice\n",
    "\n",
    "Because this is a capstone project, you are free to analyze the data any way you see fit. For example, you could build a machine learning model that predicts how much someone will spend based on demographics and offer a type. Or you could build a model that predicts whether someone will respond to an offer. Or, you don't need to build a machine learning model at all. You could develop a set of heuristics that determine what offer you should send to each customer (i.e., 75 percent of women customers who were 35 years old responded to offer A vs 40 percent from the same demographic to offer B, so send offer A)."
   ]
  },
  {
   "cell_type": "markdown",
   "metadata": {},
   "source": [
    "\n",
    "# Data Sets\n",
    "\n",
    "The data is contained in three files:\n",
    "\n",
    "* portfolio.json - containing offer ids and metadata about each offer (duration, type, etc.)\n",
    "* profile.json—demographic data for each customer\n",
    "* transcript.json—records for transactions, offers received, offers viewed, and offers completed\n",
    "\n",
    "Here is the schema and explanation of each variable in the files:\n",
    "\n",
    "**portfolio.json**\n",
    "* id (string) - offer id\n",
    "* offer_type (string)—type of offer i.e., BOGO, discount, informational\n",
    "* difficulty (int) - minimum required spend to complete an offer\n",
    "* reward (int)—reward given for completing an offer\n",
    "* duration (int)- time for offer to be open, in days\n",
    "* channels (list of strings)\n",
    "\n",
    "**profile.json**\n",
    "* age (int)- age of the customer\n",
    "* became_member_on (int)- date when customer created an app account\n",
    "* gender (str)- gender of the customer (note some entries contain 'O' for other rather than M or F)\n",
    "* id (str) - customer id\n",
    "* income (float) - customer's income\n",
    "\n",
    "**transcript.json**\n",
    "* event (str) - record description (i.e. transaction, offer received, offer viewed, etc.)\n",
    "* person (str) - customer id\n",
    "* time (int)- time in hours since the start of test. The data begins at time t=0\n",
    "* value - (dict of strings)- either an offer id or transaction amount depending on the record\n",
    "\n",
    "**Note:** If you are using the workspace, you will need to go to the terminal and run the command `conda update pandas` before reading in the files. This is because the version of pandas in the workspace cannot read in the transcript.json file correctly, but the newest version of pandas can. You can access the terminal from the orange icon in the top left of this notebook.\n",
    "\n",
    "You can see how to access the terminal and how the installation works using the two images below.  First, you need to access the terminal:\n",
    "\n",
    "<img src=\"pic1.png\"/>\n",
    "\n",
    "Then you will want to run the above command:\n",
    "\n",
    "<img src=\"pic2.png\"/>\n",
    "\n",
    "Finally, when you enter back into the notebook (use the jupyter icon again), you should be able to run the below cell without any errors."
   ]
  },
  {
   "cell_type": "markdown",
   "metadata": {},
   "source": [
    "# Overview\n",
    "\n",
    "#Problem description\n",
    "In this project we want to analyze three different datasets containing data from members of Starbucks, in order to understand the influence of different types of offers in the branch client's behaviour.\n",
    "We will work with three different datasets: portfolio, profile and transcript.json.\n",
    "\n",
    "#Analysis Strategy\n",
    "Our aim is to understand how offers incluence the users. To do that, we will work with the provider datasets to discover features that help us understand the situation. Such as, demographic groups, differences between users, different offers and transactions.\n",
    "After that we will build a clasification model to understand how customers respond to the different offers.\n",
    "\n",
    "We will carry out an exploratory analysis of the datasets, cleaning of the data, create an ML model, train the model, evaluate and enhance the properties of the models and be able to predict the response of the users.\n",
    "\n",
    "\n"
   ]
  },
  {
   "cell_type": "code",
   "execution_count": 155,
   "metadata": {
    "ExecuteTime": {
     "end_time": "2023-06-16T05:20:59.438231Z",
     "start_time": "2023-06-16T05:20:49.791767Z"
    }
   },
   "outputs": [],
   "source": [
    "# Import libraries\n",
    "import warnings\n",
    "import numpy as np\n",
    "import pandas as pd\n",
    "import seaborn as sns\n",
    "from subprocess import call\n",
    "from sklearn.svm import SVC\n",
    "import matplotlib.pyplot as plt\n",
    "from scipy.stats import uniform\n",
    "from sklearn.pipeline import Pipeline\n",
    "from sklearn.metrics import roc_curve, auc\n",
    "from sklearn.naive_bayes import GaussianNB\n",
    "from sklearn.metrics import confusion_matrix\n",
    "from sklearn.tree import DecisionTreeClassifier\n",
    "from sklearn.metrics import classification_report\n",
    "from sklearn.preprocessing import MinMaxScaler\n",
    "from sklearn.neighbors import KNeighborsClassifier\n",
    "from sklearn.model_selection import train_test_split\n",
    "from sklearn.linear_model import LogisticRegression\n",
    "from sklearn.ensemble import RandomForestClassifier\n",
    "from sklearn.model_selection import RandomizedSearchCV\n",
    "warnings.filterwarnings('ignore')\n",
    "%matplotlib inline\n",
    "\n",
    "#Read in the json files\n",
    "portfolio = pd.read_json('data/portfolio.json', orient='records', lines=True)\n",
    "profile = pd.read_json('data/profile.json', orient='records', lines=True)\n",
    "transcript = pd.read_json('data/transcript.json', orient='records', lines=True)\n",
    "\n",
    "#Create a copy to preserve the original files\n",
    "portfolio_copy = portfolio.copy()\n",
    "profile_copy = profile.copy()\n",
    "transcript_copy = transcript.copy()\n"
   ]
  },
  {
   "cell_type": "code",
   "execution_count": 156,
   "metadata": {
    "ExecuteTime": {
     "end_time": "2023-06-16T05:20:59.451352Z",
     "start_time": "2023-06-16T05:20:59.438506Z"
    }
   },
   "outputs": [
    {
     "data": {
      "text/html": [
       "<div>\n",
       "<style scoped>\n",
       "    .dataframe tbody tr th:only-of-type {\n",
       "        vertical-align: middle;\n",
       "    }\n",
       "\n",
       "    .dataframe tbody tr th {\n",
       "        vertical-align: top;\n",
       "    }\n",
       "\n",
       "    .dataframe thead th {\n",
       "        text-align: right;\n",
       "    }\n",
       "</style>\n",
       "<table border=\"1\" class=\"dataframe\">\n",
       "  <thead>\n",
       "    <tr style=\"text-align: right;\">\n",
       "      <th></th>\n",
       "      <th>gender</th>\n",
       "      <th>age</th>\n",
       "      <th>id</th>\n",
       "      <th>became_member_on</th>\n",
       "      <th>income</th>\n",
       "    </tr>\n",
       "  </thead>\n",
       "  <tbody>\n",
       "    <tr>\n",
       "      <th>0</th>\n",
       "      <td>None</td>\n",
       "      <td>118</td>\n",
       "      <td>68be06ca386d4c31939f3a4f0e3dd783</td>\n",
       "      <td>20170212</td>\n",
       "      <td>NaN</td>\n",
       "    </tr>\n",
       "    <tr>\n",
       "      <th>1</th>\n",
       "      <td>F</td>\n",
       "      <td>55</td>\n",
       "      <td>0610b486422d4921ae7d2bf64640c50b</td>\n",
       "      <td>20170715</td>\n",
       "      <td>112000.0</td>\n",
       "    </tr>\n",
       "    <tr>\n",
       "      <th>2</th>\n",
       "      <td>None</td>\n",
       "      <td>118</td>\n",
       "      <td>38fe809add3b4fcf9315a9694bb96ff5</td>\n",
       "      <td>20180712</td>\n",
       "      <td>NaN</td>\n",
       "    </tr>\n",
       "    <tr>\n",
       "      <th>3</th>\n",
       "      <td>F</td>\n",
       "      <td>75</td>\n",
       "      <td>78afa995795e4d85b5d9ceeca43f5fef</td>\n",
       "      <td>20170509</td>\n",
       "      <td>100000.0</td>\n",
       "    </tr>\n",
       "    <tr>\n",
       "      <th>4</th>\n",
       "      <td>None</td>\n",
       "      <td>118</td>\n",
       "      <td>a03223e636434f42ac4c3df47e8bac43</td>\n",
       "      <td>20170804</td>\n",
       "      <td>NaN</td>\n",
       "    </tr>\n",
       "  </tbody>\n",
       "</table>\n",
       "</div>"
      ],
      "text/plain": [
       "  gender  age                                id  became_member_on    income\n",
       "0   None  118  68be06ca386d4c31939f3a4f0e3dd783          20170212       NaN\n",
       "1      F   55  0610b486422d4921ae7d2bf64640c50b          20170715  112000.0\n",
       "2   None  118  38fe809add3b4fcf9315a9694bb96ff5          20180712       NaN\n",
       "3      F   75  78afa995795e4d85b5d9ceeca43f5fef          20170509  100000.0\n",
       "4   None  118  a03223e636434f42ac4c3df47e8bac43          20170804       NaN"
      ]
     },
     "execution_count": 156,
     "metadata": {},
     "output_type": "execute_result"
    }
   ],
   "source": [
    "#Check profile dataframe\n",
    "profile.head(5)"
   ]
  },
  {
   "cell_type": "code",
   "execution_count": 157,
   "metadata": {
    "ExecuteTime": {
     "end_time": "2023-06-16T05:20:59.485651Z",
     "start_time": "2023-06-16T05:20:59.452040Z"
    }
   },
   "outputs": [
    {
     "data": {
      "text/html": [
       "<div>\n",
       "<style scoped>\n",
       "    .dataframe tbody tr th:only-of-type {\n",
       "        vertical-align: middle;\n",
       "    }\n",
       "\n",
       "    .dataframe tbody tr th {\n",
       "        vertical-align: top;\n",
       "    }\n",
       "\n",
       "    .dataframe thead th {\n",
       "        text-align: right;\n",
       "    }\n",
       "</style>\n",
       "<table border=\"1\" class=\"dataframe\">\n",
       "  <thead>\n",
       "    <tr style=\"text-align: right;\">\n",
       "      <th></th>\n",
       "      <th>reward</th>\n",
       "      <th>channels</th>\n",
       "      <th>difficulty</th>\n",
       "      <th>duration</th>\n",
       "      <th>offer_type</th>\n",
       "      <th>id</th>\n",
       "    </tr>\n",
       "  </thead>\n",
       "  <tbody>\n",
       "    <tr>\n",
       "      <th>0</th>\n",
       "      <td>10</td>\n",
       "      <td>[email, mobile, social]</td>\n",
       "      <td>10</td>\n",
       "      <td>7</td>\n",
       "      <td>bogo</td>\n",
       "      <td>ae264e3637204a6fb9bb56bc8210ddfd</td>\n",
       "    </tr>\n",
       "    <tr>\n",
       "      <th>1</th>\n",
       "      <td>10</td>\n",
       "      <td>[web, email, mobile, social]</td>\n",
       "      <td>10</td>\n",
       "      <td>5</td>\n",
       "      <td>bogo</td>\n",
       "      <td>4d5c57ea9a6940dd891ad53e9dbe8da0</td>\n",
       "    </tr>\n",
       "    <tr>\n",
       "      <th>2</th>\n",
       "      <td>0</td>\n",
       "      <td>[web, email, mobile]</td>\n",
       "      <td>0</td>\n",
       "      <td>4</td>\n",
       "      <td>informational</td>\n",
       "      <td>3f207df678b143eea3cee63160fa8bed</td>\n",
       "    </tr>\n",
       "    <tr>\n",
       "      <th>3</th>\n",
       "      <td>5</td>\n",
       "      <td>[web, email, mobile]</td>\n",
       "      <td>5</td>\n",
       "      <td>7</td>\n",
       "      <td>bogo</td>\n",
       "      <td>9b98b8c7a33c4b65b9aebfe6a799e6d9</td>\n",
       "    </tr>\n",
       "    <tr>\n",
       "      <th>4</th>\n",
       "      <td>5</td>\n",
       "      <td>[web, email]</td>\n",
       "      <td>20</td>\n",
       "      <td>10</td>\n",
       "      <td>discount</td>\n",
       "      <td>0b1e1539f2cc45b7b9fa7c272da2e1d7</td>\n",
       "    </tr>\n",
       "  </tbody>\n",
       "</table>\n",
       "</div>"
      ],
      "text/plain": [
       "   reward                      channels  difficulty  duration     offer_type  \\\n",
       "0      10       [email, mobile, social]          10         7           bogo   \n",
       "1      10  [web, email, mobile, social]          10         5           bogo   \n",
       "2       0          [web, email, mobile]           0         4  informational   \n",
       "3       5          [web, email, mobile]           5         7           bogo   \n",
       "4       5                  [web, email]          20        10       discount   \n",
       "\n",
       "                                 id  \n",
       "0  ae264e3637204a6fb9bb56bc8210ddfd  \n",
       "1  4d5c57ea9a6940dd891ad53e9dbe8da0  \n",
       "2  3f207df678b143eea3cee63160fa8bed  \n",
       "3  9b98b8c7a33c4b65b9aebfe6a799e6d9  \n",
       "4  0b1e1539f2cc45b7b9fa7c272da2e1d7  "
      ]
     },
     "execution_count": 157,
     "metadata": {},
     "output_type": "execute_result"
    }
   ],
   "source": [
    "#Check portfolio dataframe\n",
    "portfolio.head(5)"
   ]
  },
  {
   "cell_type": "code",
   "execution_count": 158,
   "metadata": {
    "ExecuteTime": {
     "end_time": "2023-06-16T05:20:59.508282Z",
     "start_time": "2023-06-16T05:20:59.479778Z"
    }
   },
   "outputs": [
    {
     "data": {
      "text/html": [
       "<div>\n",
       "<style scoped>\n",
       "    .dataframe tbody tr th:only-of-type {\n",
       "        vertical-align: middle;\n",
       "    }\n",
       "\n",
       "    .dataframe tbody tr th {\n",
       "        vertical-align: top;\n",
       "    }\n",
       "\n",
       "    .dataframe thead th {\n",
       "        text-align: right;\n",
       "    }\n",
       "</style>\n",
       "<table border=\"1\" class=\"dataframe\">\n",
       "  <thead>\n",
       "    <tr style=\"text-align: right;\">\n",
       "      <th></th>\n",
       "      <th>person</th>\n",
       "      <th>event</th>\n",
       "      <th>value</th>\n",
       "      <th>time</th>\n",
       "    </tr>\n",
       "  </thead>\n",
       "  <tbody>\n",
       "    <tr>\n",
       "      <th>0</th>\n",
       "      <td>78afa995795e4d85b5d9ceeca43f5fef</td>\n",
       "      <td>offer received</td>\n",
       "      <td>{'offer id': '9b98b8c7a33c4b65b9aebfe6a799e6d9'}</td>\n",
       "      <td>0</td>\n",
       "    </tr>\n",
       "    <tr>\n",
       "      <th>1</th>\n",
       "      <td>a03223e636434f42ac4c3df47e8bac43</td>\n",
       "      <td>offer received</td>\n",
       "      <td>{'offer id': '0b1e1539f2cc45b7b9fa7c272da2e1d7'}</td>\n",
       "      <td>0</td>\n",
       "    </tr>\n",
       "    <tr>\n",
       "      <th>2</th>\n",
       "      <td>e2127556f4f64592b11af22de27a7932</td>\n",
       "      <td>offer received</td>\n",
       "      <td>{'offer id': '2906b810c7d4411798c6938adc9daaa5'}</td>\n",
       "      <td>0</td>\n",
       "    </tr>\n",
       "    <tr>\n",
       "      <th>3</th>\n",
       "      <td>8ec6ce2a7e7949b1bf142def7d0e0586</td>\n",
       "      <td>offer received</td>\n",
       "      <td>{'offer id': 'fafdcd668e3743c1bb461111dcafc2a4'}</td>\n",
       "      <td>0</td>\n",
       "    </tr>\n",
       "    <tr>\n",
       "      <th>4</th>\n",
       "      <td>68617ca6246f4fbc85e91a2a49552598</td>\n",
       "      <td>offer received</td>\n",
       "      <td>{'offer id': '4d5c57ea9a6940dd891ad53e9dbe8da0'}</td>\n",
       "      <td>0</td>\n",
       "    </tr>\n",
       "  </tbody>\n",
       "</table>\n",
       "</div>"
      ],
      "text/plain": [
       "                             person           event  \\\n",
       "0  78afa995795e4d85b5d9ceeca43f5fef  offer received   \n",
       "1  a03223e636434f42ac4c3df47e8bac43  offer received   \n",
       "2  e2127556f4f64592b11af22de27a7932  offer received   \n",
       "3  8ec6ce2a7e7949b1bf142def7d0e0586  offer received   \n",
       "4  68617ca6246f4fbc85e91a2a49552598  offer received   \n",
       "\n",
       "                                              value  time  \n",
       "0  {'offer id': '9b98b8c7a33c4b65b9aebfe6a799e6d9'}     0  \n",
       "1  {'offer id': '0b1e1539f2cc45b7b9fa7c272da2e1d7'}     0  \n",
       "2  {'offer id': '2906b810c7d4411798c6938adc9daaa5'}     0  \n",
       "3  {'offer id': 'fafdcd668e3743c1bb461111dcafc2a4'}     0  \n",
       "4  {'offer id': '4d5c57ea9a6940dd891ad53e9dbe8da0'}     0  "
      ]
     },
     "execution_count": 158,
     "metadata": {},
     "output_type": "execute_result"
    }
   ],
   "source": [
    "#Check transcript dataframe\n",
    "transcript.head(5)"
   ]
  },
  {
   "cell_type": "markdown",
   "metadata": {},
   "source": [
    "## Analyzing 'profile' dataset\n",
    "Profile dataset contains the demographic data for each customer. This dataset can help us get an idea of our customers and create different customer's groups."
   ]
  },
  {
   "cell_type": "code",
   "execution_count": 159,
   "metadata": {
    "ExecuteTime": {
     "end_time": "2023-06-16T05:20:59.626676Z",
     "start_time": "2023-06-16T05:20:59.495976Z"
    }
   },
   "outputs": [
    {
     "data": {
      "text/html": [
       "<div>\n",
       "<style scoped>\n",
       "    .dataframe tbody tr th:only-of-type {\n",
       "        vertical-align: middle;\n",
       "    }\n",
       "\n",
       "    .dataframe tbody tr th {\n",
       "        vertical-align: top;\n",
       "    }\n",
       "\n",
       "    .dataframe thead th {\n",
       "        text-align: right;\n",
       "    }\n",
       "</style>\n",
       "<table border=\"1\" class=\"dataframe\">\n",
       "  <thead>\n",
       "    <tr style=\"text-align: right;\">\n",
       "      <th></th>\n",
       "      <th>gender</th>\n",
       "      <th>age</th>\n",
       "      <th>id</th>\n",
       "      <th>became_member_on</th>\n",
       "      <th>income</th>\n",
       "    </tr>\n",
       "  </thead>\n",
       "  <tbody>\n",
       "    <tr>\n",
       "      <th>count</th>\n",
       "      <td>14825</td>\n",
       "      <td>17000.000000</td>\n",
       "      <td>17000</td>\n",
       "      <td>1.700000e+04</td>\n",
       "      <td>14825.000000</td>\n",
       "    </tr>\n",
       "    <tr>\n",
       "      <th>unique</th>\n",
       "      <td>3</td>\n",
       "      <td>NaN</td>\n",
       "      <td>17000</td>\n",
       "      <td>NaN</td>\n",
       "      <td>NaN</td>\n",
       "    </tr>\n",
       "    <tr>\n",
       "      <th>top</th>\n",
       "      <td>M</td>\n",
       "      <td>NaN</td>\n",
       "      <td>68be06ca386d4c31939f3a4f0e3dd783</td>\n",
       "      <td>NaN</td>\n",
       "      <td>NaN</td>\n",
       "    </tr>\n",
       "    <tr>\n",
       "      <th>freq</th>\n",
       "      <td>8484</td>\n",
       "      <td>NaN</td>\n",
       "      <td>1</td>\n",
       "      <td>NaN</td>\n",
       "      <td>NaN</td>\n",
       "    </tr>\n",
       "    <tr>\n",
       "      <th>mean</th>\n",
       "      <td>NaN</td>\n",
       "      <td>62.531412</td>\n",
       "      <td>NaN</td>\n",
       "      <td>2.016703e+07</td>\n",
       "      <td>65404.991568</td>\n",
       "    </tr>\n",
       "    <tr>\n",
       "      <th>std</th>\n",
       "      <td>NaN</td>\n",
       "      <td>26.738580</td>\n",
       "      <td>NaN</td>\n",
       "      <td>1.167750e+04</td>\n",
       "      <td>21598.299410</td>\n",
       "    </tr>\n",
       "    <tr>\n",
       "      <th>min</th>\n",
       "      <td>NaN</td>\n",
       "      <td>18.000000</td>\n",
       "      <td>NaN</td>\n",
       "      <td>2.013073e+07</td>\n",
       "      <td>30000.000000</td>\n",
       "    </tr>\n",
       "    <tr>\n",
       "      <th>25%</th>\n",
       "      <td>NaN</td>\n",
       "      <td>45.000000</td>\n",
       "      <td>NaN</td>\n",
       "      <td>2.016053e+07</td>\n",
       "      <td>49000.000000</td>\n",
       "    </tr>\n",
       "    <tr>\n",
       "      <th>50%</th>\n",
       "      <td>NaN</td>\n",
       "      <td>58.000000</td>\n",
       "      <td>NaN</td>\n",
       "      <td>2.017080e+07</td>\n",
       "      <td>64000.000000</td>\n",
       "    </tr>\n",
       "    <tr>\n",
       "      <th>75%</th>\n",
       "      <td>NaN</td>\n",
       "      <td>73.000000</td>\n",
       "      <td>NaN</td>\n",
       "      <td>2.017123e+07</td>\n",
       "      <td>80000.000000</td>\n",
       "    </tr>\n",
       "    <tr>\n",
       "      <th>max</th>\n",
       "      <td>NaN</td>\n",
       "      <td>118.000000</td>\n",
       "      <td>NaN</td>\n",
       "      <td>2.018073e+07</td>\n",
       "      <td>120000.000000</td>\n",
       "    </tr>\n",
       "  </tbody>\n",
       "</table>\n",
       "</div>"
      ],
      "text/plain": [
       "       gender           age                                id  \\\n",
       "count   14825  17000.000000                             17000   \n",
       "unique      3           NaN                             17000   \n",
       "top         M           NaN  68be06ca386d4c31939f3a4f0e3dd783   \n",
       "freq     8484           NaN                                 1   \n",
       "mean      NaN     62.531412                               NaN   \n",
       "std       NaN     26.738580                               NaN   \n",
       "min       NaN     18.000000                               NaN   \n",
       "25%       NaN     45.000000                               NaN   \n",
       "50%       NaN     58.000000                               NaN   \n",
       "75%       NaN     73.000000                               NaN   \n",
       "max       NaN    118.000000                               NaN   \n",
       "\n",
       "        became_member_on         income  \n",
       "count       1.700000e+04   14825.000000  \n",
       "unique               NaN            NaN  \n",
       "top                  NaN            NaN  \n",
       "freq                 NaN            NaN  \n",
       "mean        2.016703e+07   65404.991568  \n",
       "std         1.167750e+04   21598.299410  \n",
       "min         2.013073e+07   30000.000000  \n",
       "25%         2.016053e+07   49000.000000  \n",
       "50%         2.017080e+07   64000.000000  \n",
       "75%         2.017123e+07   80000.000000  \n",
       "max         2.018073e+07  120000.000000  "
      ]
     },
     "execution_count": 159,
     "metadata": {},
     "output_type": "execute_result"
    }
   ],
   "source": [
    "#Summary of profile dataset\n",
    "profile.describe(include='all')"
   ]
  },
  {
   "cell_type": "code",
   "execution_count": 160,
   "metadata": {
    "ExecuteTime": {
     "end_time": "2023-06-16T05:20:59.628317Z",
     "start_time": "2023-06-16T05:20:59.554642Z"
    }
   },
   "outputs": [
    {
     "data": {
      "text/plain": [
       "gender              2175\n",
       "age                    0\n",
       "id                     0\n",
       "became_member_on       0\n",
       "income              2175\n",
       "dtype: int64"
      ]
     },
     "execution_count": 160,
     "metadata": {},
     "output_type": "execute_result"
    }
   ],
   "source": [
    "#Find missing values\n",
    "profile.isna().sum()"
   ]
  },
  {
   "cell_type": "markdown",
   "metadata": {},
   "source": [
    "There are 2175 missing values both in gender and income columns each.\n",
    "The other columns (age, id, became_member_on) have complete data with no missing entries.\n",
    "We might need to address the missing values in gender and income during data cleaning."
   ]
  },
  {
   "cell_type": "code",
   "execution_count": 161,
   "metadata": {
    "ExecuteTime": {
     "end_time": "2023-06-16T05:20:59.963279Z",
     "start_time": "2023-06-16T05:20:59.583682Z"
    }
   },
   "outputs": [
    {
     "name": "stdout",
     "output_type": "stream",
     "text": [
      "Percentage of Male: 49.91%\n",
      "Percentage of Female: 36.05%\n",
      "Percentage of Other: 1.25%\n"
     ]
    }
   ],
   "source": [
    "#Calculate the number of males,females of other genders\n",
    "male = (profile['gender'].value_counts()/len(profile['gender'])*100).round(2)[0]\n",
    "female = (profile['gender'].value_counts()/len(profile['gender'])*100).round(2)[1]\n",
    "other = (profile['gender'].value_counts()/len(profile['gender'])*100).round(2)[2]\n",
    "\n",
    "#Print the value \n",
    "print(\"Percentage of Male: {}%\".format(male))\n",
    "print(\"Percentage of Female: {}%\".format(female))\n",
    "print(\"Percentage of Other: {}%\".format(other))\n",
    "\n"
   ]
  },
  {
   "cell_type": "code",
   "execution_count": 162,
   "metadata": {},
   "outputs": [
    {
     "data": {
      "image/png": "[encoded data removed]",
      "text/plain": [
       "<Figure size 640x480 with 1 Axes>"
      ]
     },
     "metadata": {},
     "output_type": "display_data"
    }
   ],
   "source": [
    "#Print the gender's distribution in a bar plot\n",
    "# Create a custom color palette for the genders\n",
    "color_palette = ['blue', 'pink', 'purple']\n",
    "\n",
    "# Plot the gender distribution with the custom color palette\n",
    "sns.countplot(x='gender', data=profile, order=['M', 'F', 'O'], palette=color_palette)\n",
    "\n",
    "# Add title and labels\n",
    "plt.title(\"Gender Distribution\")\n",
    "plt.xlabel(\"Gender\")\n",
    "plt.ylabel(\"Count\")\n",
    "\n",
    "# Show the plot\n",
    "plt.show()"
   ]
  },
  {
   "cell_type": "markdown",
   "metadata": {},
   "source": [
    "The analysis reveals that the majority of customers are male (49.91%), followed by female (36.05%), with a small percentage identifying as other (1.25%). \n",
    "This indicates a significant portion of the gender data is either missing or skewed, as the percentages do not add up to 100%. "
   ]
  },
  {
   "cell_type": "code",
   "execution_count": 163,
   "metadata": {
    "scrolled": true
   },
   "outputs": [
    {
     "name": "stdout",
     "output_type": "stream",
     "text": [
      "gender\n",
      "F    57.544950\n",
      "M    52.116690\n",
      "O    54.400943\n",
      "Name: age, dtype: float64\n"
     ]
    }
   ],
   "source": [
    "# Group the dataset by gender and calculate the mean age for each group\n",
    "average_age_by_gender = profile.groupby('gender')['age'].mean()\n",
    "print(average_age_by_gender)\n"
   ]
  },
  {
   "cell_type": "code",
   "execution_count": 164,
   "metadata": {
    "scrolled": true
   },
   "outputs": [
    {
     "data": {
      "image/png": "[encoded data removed]",
      "text/plain": [
       "<Figure size 640x480 with 1 Axes>"
      ]
     },
     "metadata": {},
     "output_type": "display_data"
    }
   ],
   "source": [
    "#Create a custom color palette\n",
    "color_palette = ['blue', 'pink', 'purple']\n",
    "\n",
    "# Create a bar plot\n",
    "average_age_by_gender.plot(kind='bar', color = color_palette)\n",
    "\n",
    "# Add labels and title\n",
    "plt.title('Average Age by Gender')\n",
    "plt.xlabel('Gender')\n",
    "plt.ylabel('Average Age')\n",
    "\n",
    "# Show the plot\n",
    "plt.xticks(rotation=0)  # Ensure labels are horizontal\n",
    "plt.show()\n"
   ]
  },
  {
   "cell_type": "markdown",
   "metadata": {},
   "source": [
    "The average age of customers varies slightly by gender: females have the highest average age at 57.54 years, followed by those identifying as other at 54.40 years, and males with an average age of 52.12 years. This, combined with the distribution percentages (49.91% male, 36.05% female, 1.25% other), indicates a predominance of slightly younger male customers compared to females and others in the dataset."
   ]
  },
  {
   "cell_type": "code",
   "execution_count": 165,
   "metadata": {},
   "outputs": [
    {
     "data": {
      "text/html": [
       "<div>\n",
       "<style scoped>\n",
       "    .dataframe tbody tr th:only-of-type {\n",
       "        vertical-align: middle;\n",
       "    }\n",
       "\n",
       "    .dataframe tbody tr th {\n",
       "        vertical-align: top;\n",
       "    }\n",
       "\n",
       "    .dataframe thead th {\n",
       "        text-align: right;\n",
       "    }\n",
       "</style>\n",
       "<table border=\"1\" class=\"dataframe\">\n",
       "  <thead>\n",
       "    <tr style=\"text-align: right;\">\n",
       "      <th></th>\n",
       "      <th>gender</th>\n",
       "      <th>age</th>\n",
       "      <th>id</th>\n",
       "      <th>became_member_on</th>\n",
       "      <th>income</th>\n",
       "    </tr>\n",
       "  </thead>\n",
       "  <tbody>\n",
       "    <tr>\n",
       "      <th>0</th>\n",
       "      <td>None</td>\n",
       "      <td>118</td>\n",
       "      <td>68be06ca386d4c31939f3a4f0e3dd783</td>\n",
       "      <td>20170212</td>\n",
       "      <td>NaN</td>\n",
       "    </tr>\n",
       "  </tbody>\n",
       "</table>\n",
       "</div>"
      ],
      "text/plain": [
       "  gender  age                                id  became_member_on  income\n",
       "0   None  118  68be06ca386d4c31939f3a4f0e3dd783          20170212     NaN"
      ]
     },
     "execution_count": 165,
     "metadata": {},
     "output_type": "execute_result"
    }
   ],
   "source": [
    "#Check dataframe's columns\n",
    "profile.head(1)"
   ]
  },
  {
   "cell_type": "code",
   "execution_count": 166,
   "metadata": {
    "ExecuteTime": {
     "end_time": "2023-06-16T05:21:00.387941Z",
     "start_time": "2023-06-16T05:21:00.281602Z"
    }
   },
   "outputs": [],
   "source": [
    "#Rename 'id' column into 'customer_id'\n",
    "profile.rename(columns={\"id\":\"customer_id\"},inplace=True)"
   ]
  },
  {
   "cell_type": "code",
   "execution_count": 167,
   "metadata": {
    "ExecuteTime": {
     "end_time": "2023-06-16T05:21:00.388124Z",
     "start_time": "2023-06-16T05:21:00.291332Z"
    }
   },
   "outputs": [],
   "source": [
    "#Convert the string containg the date a user became memeber into datetime64 format.\n",
    "profile['became_member_on'] = pd.to_datetime(profile['became_member_on'],format = \"%Y%m%d\")"
   ]
  },
  {
   "cell_type": "code",
   "execution_count": 168,
   "metadata": {
    "scrolled": true
   },
   "outputs": [
    {
     "name": "stdout",
     "output_type": "stream",
     "text": [
      "                  Total Users Percentage\n",
      "became_member_on                        \n",
      "2013                      286      1.68%\n",
      "2014                      691      4.06%\n",
      "2015                     1830     10.76%\n",
      "2016                     3526     20.74%\n",
      "2017                     6469     38.05%\n",
      "2018                     4198     24.69%\n"
     ]
    }
   ],
   "source": [
    "# Calculate the count of users by year\n",
    "date_counts = profile['became_member_on'].dt.year.value_counts().sort_index()\n",
    "\n",
    "# Calculate the percentage for each year\n",
    "total_users = date_counts.sum()\n",
    "percentage_by_year = (date_counts / total_users) * 100\n",
    "\n",
    "# Round the percentages to 2 decimals and add the '%' symbol\n",
    "percentage_by_year = percentage_by_year.round(2).astype(str) + '%'\n",
    "\n",
    "# Combine the counts and percentages into a DataFrame for better readability\n",
    "user_data = pd.DataFrame({\n",
    "    'Total Users': date_counts,\n",
    "    'Percentage': percentage_by_year\n",
    "})\n",
    "\n",
    "# Print the result\n",
    "print(user_data)\n",
    "\n"
   ]
  },
  {
   "cell_type": "code",
   "execution_count": 169,
   "metadata": {},
   "outputs": [
    {
     "data": {
      "image/png": "[encoded data removed]",
      "text/plain": [
       "<Figure size 640x480 with 1 Axes>"
      ]
     },
     "metadata": {},
     "output_type": "display_data"
    }
   ],
   "source": [
    "# Create a pie chart\n",
    "plt.pie(date_counts.values, \n",
    "        labels=date_counts.index, \n",
    "        autopct='%1.1f%%', \n",
    "         colors=plt.cm.Pastel1.colors)  \n",
    "\n",
    "# Add title\n",
    "plt.title('Proportion of Users Becoming Members by Year')\n",
    "\n",
    "# Show the plot\n",
    "plt.axis('equal') \n",
    "plt.show()"
   ]
  },
  {
   "cell_type": "markdown",
   "metadata": {
    "ExecuteTime": {
     "end_time": "2023-06-18T06:51:50.492299Z",
     "start_time": "2023-06-18T06:51:50.037021Z"
    }
   },
   "source": [
    "Based on the data, we can observe the following trends in the number of users who became members of Starbucks:\n",
    "\n",
    "The year with the highest membership growth was 2017, with 6,469 new users, making up 38.05% of the total users.\n",
    "The number of new members sharply increased from 2013 to 2017, with a significant growth in 2016 (3,526 users, 20.74%).\n",
    "2018 also had a notable number of new members (4,198 users, 24.69%), indicating continued growth.\n",
    "Earlier years like 2013 and 2014 had fewer users, accounting for 1.68% and 4.06% respectively.\n",
    "This suggests that the membership program saw accelerated adoption starting around 2015, with the peak in 2017."
   ]
  },
  {
   "cell_type": "markdown",
   "metadata": {},
   "source": [
    "## Analyzing 'transcript' dataset\n",
    "This dataset contains information of transactions, offers received, offers viewed, and offers completed for each member.\n",
    "Combining this dataset with the profile dataset will help us later to understand how offers and users are relatend."
   ]
  },
  {
   "cell_type": "code",
   "execution_count": 170,
   "metadata": {
    "ExecuteTime": {
     "end_time": "2023-06-16T05:21:00.527549Z",
     "start_time": "2023-06-16T05:21:00.520257Z"
    }
   },
   "outputs": [
    {
     "data": {
      "text/html": [
       "<div>\n",
       "<style scoped>\n",
       "    .dataframe tbody tr th:only-of-type {\n",
       "        vertical-align: middle;\n",
       "    }\n",
       "\n",
       "    .dataframe tbody tr th {\n",
       "        vertical-align: top;\n",
       "    }\n",
       "\n",
       "    .dataframe thead th {\n",
       "        text-align: right;\n",
       "    }\n",
       "</style>\n",
       "<table border=\"1\" class=\"dataframe\">\n",
       "  <thead>\n",
       "    <tr style=\"text-align: right;\">\n",
       "      <th></th>\n",
       "      <th>person</th>\n",
       "      <th>event</th>\n",
       "      <th>value</th>\n",
       "      <th>time</th>\n",
       "    </tr>\n",
       "  </thead>\n",
       "  <tbody>\n",
       "    <tr>\n",
       "      <th>0</th>\n",
       "      <td>78afa995795e4d85b5d9ceeca43f5fef</td>\n",
       "      <td>offer received</td>\n",
       "      <td>{'offer id': '9b98b8c7a33c4b65b9aebfe6a799e6d9'}</td>\n",
       "      <td>0</td>\n",
       "    </tr>\n",
       "    <tr>\n",
       "      <th>1</th>\n",
       "      <td>a03223e636434f42ac4c3df47e8bac43</td>\n",
       "      <td>offer received</td>\n",
       "      <td>{'offer id': '0b1e1539f2cc45b7b9fa7c272da2e1d7'}</td>\n",
       "      <td>0</td>\n",
       "    </tr>\n",
       "    <tr>\n",
       "      <th>2</th>\n",
       "      <td>e2127556f4f64592b11af22de27a7932</td>\n",
       "      <td>offer received</td>\n",
       "      <td>{'offer id': '2906b810c7d4411798c6938adc9daaa5'}</td>\n",
       "      <td>0</td>\n",
       "    </tr>\n",
       "    <tr>\n",
       "      <th>3</th>\n",
       "      <td>8ec6ce2a7e7949b1bf142def7d0e0586</td>\n",
       "      <td>offer received</td>\n",
       "      <td>{'offer id': 'fafdcd668e3743c1bb461111dcafc2a4'}</td>\n",
       "      <td>0</td>\n",
       "    </tr>\n",
       "    <tr>\n",
       "      <th>4</th>\n",
       "      <td>68617ca6246f4fbc85e91a2a49552598</td>\n",
       "      <td>offer received</td>\n",
       "      <td>{'offer id': '4d5c57ea9a6940dd891ad53e9dbe8da0'}</td>\n",
       "      <td>0</td>\n",
       "    </tr>\n",
       "  </tbody>\n",
       "</table>\n",
       "</div>"
      ],
      "text/plain": [
       "                             person           event  \\\n",
       "0  78afa995795e4d85b5d9ceeca43f5fef  offer received   \n",
       "1  a03223e636434f42ac4c3df47e8bac43  offer received   \n",
       "2  e2127556f4f64592b11af22de27a7932  offer received   \n",
       "3  8ec6ce2a7e7949b1bf142def7d0e0586  offer received   \n",
       "4  68617ca6246f4fbc85e91a2a49552598  offer received   \n",
       "\n",
       "                                              value  time  \n",
       "0  {'offer id': '9b98b8c7a33c4b65b9aebfe6a799e6d9'}     0  \n",
       "1  {'offer id': '0b1e1539f2cc45b7b9fa7c272da2e1d7'}     0  \n",
       "2  {'offer id': '2906b810c7d4411798c6938adc9daaa5'}     0  \n",
       "3  {'offer id': 'fafdcd668e3743c1bb461111dcafc2a4'}     0  \n",
       "4  {'offer id': '4d5c57ea9a6940dd891ad53e9dbe8da0'}     0  "
      ]
     },
     "execution_count": 170,
     "metadata": {},
     "output_type": "execute_result"
    }
   ],
   "source": [
    "#Check dataset\n",
    "transcript.head(5)"
   ]
  },
  {
   "cell_type": "code",
   "execution_count": 171,
   "metadata": {
    "ExecuteTime": {
     "end_time": "2023-06-16T05:21:00.734463Z",
     "start_time": "2023-06-16T05:21:00.526569Z"
    }
   },
   "outputs": [
    {
     "data": {
      "text/plain": [
       "person    0\n",
       "event     0\n",
       "value     0\n",
       "time      0\n",
       "dtype: int64"
      ]
     },
     "execution_count": 171,
     "metadata": {},
     "output_type": "execute_result"
    }
   ],
   "source": [
    "#Check for null values\n",
    "transcript.isna().sum()"
   ]
  },
  {
   "cell_type": "markdown",
   "metadata": {},
   "source": [
    "There are no null values in this dataset. This can seem a great, but we need to make sure that the data within the dataset makes sense and has enought quality to give valuable information."
   ]
  },
  {
   "cell_type": "code",
   "execution_count": 172,
   "metadata": {
    "ExecuteTime": {
     "end_time": "2023-06-16T05:21:00.803901Z",
     "start_time": "2023-06-16T05:21:00.721366Z"
    },
    "scrolled": true
   },
   "outputs": [
    {
     "name": "stdout",
     "output_type": "stream",
     "text": [
      "offer completed\n",
      "offer received\n",
      "offer viewed\n",
      "transaction\n"
     ]
    }
   ],
   "source": [
    "# Get unique events and sort them\n",
    "events = sorted(transcript['event'].unique())\n",
    "\n",
    "# Print the sorted list of events\n",
    "print(\"\\n\".join(events))"
   ]
  },
  {
   "cell_type": "markdown",
   "metadata": {},
   "source": [
    "There are 4 different events. Offer completed, offer recieved, offer viewed and transaction.\n",
    "As said in the introduction of the practice, there's no need for the events to be completed in a sequence. For example, a customer can have a transaction event, without an offer recieved and an offer completed without an offer viewed."
   ]
  },
  {
   "cell_type": "code",
   "execution_count": 173,
   "metadata": {
    "scrolled": true
   },
   "outputs": [
    {
     "data": {
      "image/png": "[encoded data removed]",
      "text/plain": [
       "<Figure size 1000x600 with 1 Axes>"
      ]
     },
     "metadata": {},
     "output_type": "display_data"
    }
   ],
   "source": [
    "# Plotting the event distribution\n",
    "event_counts = transcript['event'].value_counts()\n",
    "event_percentages = {event: (count / len(transcript) * 100) for event, count in event_counts.items()}\n",
    "\n",
    "#C olor pallette\n",
    "pastel_colors = ['#ffb3ba', '#ffdfba', '#AFEEEE', '#baffc9', '#bae1ff']\n",
    "\n",
    "\n",
    "# Create the plot\n",
    "plt.figure(figsize=(10, 6))  # Optional: Adjust the figure size for better clarity\n",
    "bars = plt.bar(event_percentages.keys(), event_percentages.values(), color=pastel_colors)\n",
    "\n",
    "# Add percentage labels on top of the bars\n",
    "for bar in bars:\n",
    "    yval = bar.get_height()\n",
    "    plt.text(bar.get_x() + bar.get_width()/2, yval + 1, f'{yval:.2f}%', ha='center', va='bottom')\n",
    "\n",
    "# Title and labels\n",
    "plt.title('Event Distribution', fontsize=14)\n",
    "plt.xlabel('Event', fontsize=12)\n",
    "plt.ylabel('Percentage (%)', fontsize=12)\n",
    "\n",
    "# Add gridlines to make it easier to interpret\n",
    "plt.grid(axis='y', linestyle='--', alpha=0.7)\n",
    "\n",
    "# Adjust layout to avoid clipping of labels\n",
    "plt.tight_layout()\n",
    "\n",
    "# Show the plot\n",
    "plt.show()\n"
   ]
  },
  {
   "cell_type": "code",
   "execution_count": 174,
   "metadata": {},
   "outputs": [
    {
     "name": "stdout",
     "output_type": "stream",
     "text": [
      "Percentage of transaction is 45.33%\n",
      "Percentage of offer received is 24.88%\n",
      "Percentage of offer viewed is 18.83%\n",
      "Percentage of offer completed is 10.95%\n"
     ]
    }
   ],
   "source": [
    "# Print the percentage for each event\n",
    "for key, value in event_percentages.items():\n",
    "    print(\"Percentage of {} is {}%\".format(key, round(value, 2)))"
   ]
  },
  {
   "cell_type": "markdown",
   "metadata": {},
   "source": [
    "The most common event is transaction, making up 45.33% of the total events, indicating that a significant portion of user activity is related to purchases.\n",
    "Offer received follows closely with 24.88%, showing that nearly a quarter of users receive an offer.\n",
    "Offer viewed accounts for 18.83%, suggesting that a majority of users view the offers they receive.\n",
    "Finally, offer completed represents 10.95%, highlighting that less than 11% of users complete the offers they are presented with."
   ]
  },
  {
   "cell_type": "code",
   "execution_count": 175,
   "metadata": {
    "ExecuteTime": {
     "end_time": "2023-06-16T05:21:32.129775Z",
     "start_time": "2023-06-16T05:21:32.099317Z"
    }
   },
   "outputs": [
    {
     "data": {
      "text/plain": [
       "value\n",
       "{'offer id': '2298d6c36e964ae4a3e7e9706d1fb8c2'}    14983\n",
       "{'offer id': 'fafdcd668e3743c1bb461111dcafc2a4'}    14924\n",
       "{'offer id': '4d5c57ea9a6940dd891ad53e9dbe8da0'}    14891\n",
       "{'offer id': 'f19421c1d4aa40978ebb69ca19b0e20d'}    14835\n",
       "{'offer id': 'ae264e3637204a6fb9bb56bc8210ddfd'}    14374\n",
       "                                                    ...  \n",
       "{'amount': 42.31}                                       1\n",
       "{'amount': 44.62}                                       1\n",
       "{'amount': 42.27}                                       1\n",
       "{'amount': 108.89}                                      1\n",
       "{'amount': 476.33}                                      1\n",
       "Name: count, Length: 5121, dtype: int64"
      ]
     },
     "execution_count": 175,
     "metadata": {},
     "output_type": "execute_result"
    }
   ],
   "source": [
    "#Count each unique value in the column value\n",
    "transcript['value'].value_counts()"
   ]
  },
  {
   "cell_type": "code",
   "execution_count": 176,
   "metadata": {
    "ExecuteTime": {
     "end_time": "2023-06-16T05:21:32.582120Z",
     "start_time": "2023-06-16T05:21:32.133743Z"
    }
   },
   "outputs": [],
   "source": [
    "def extract_values(val, key1, key2=None):\n",
    "    \"\"\"\n",
    "    This function is designed to extract a value from a dictionary-like object (i.e., an object where data is stored as key-value pairs) based on one or two keys.    \n",
    "    Args:\n",
    "        Val: The dictionary or dictionary-like object where we will look for the key.\n",
    "        key1: The primary key we will attempt to extract the value from.\n",
    "        key2: An optional secondary key to look for if the first one is not found.\n",
    "        \n",
    "    Returns:\n",
    "        The function returns the value associated with key1 if it's found, or if not found, it looks for key2 (if provided). If neither key is found, it returns None.    \"\"\"\n",
    "    \n",
    "    # If key2 is provided, try to get the value using key1 first, if not found, then try key2.\n",
    "    if key2:\n",
    "        return val.get(key1) or val.get(key2)  # Returns value for key1 if found, else returns value for key2.\n",
    "    else:\n",
    "        # If key2 is not provided, only try to get the value for key1.\n",
    "        return val.get(key1)  # Returns the value for key1 if found, otherwise None.\n",
    "\n",
    "# This line creates a new column 'offer_id' by applying the extract_values function to the 'value' column.\n",
    "# It looks for the 'offer_id' key in each value (assumed to be a dictionary), and if not found, looks for 'offer id'.\n",
    "transcript['offer_id'] = transcript['value'].apply(extract_values, args=('offer_id', 'offer id'))\n",
    "\n",
    "# This line creates a new column 'amount' by applying the extract_values function to the 'value' column.\n",
    "# It looks for the 'amount' key in each value (assumed to be a dictionary).\n",
    "transcript['amount'] = transcript['value'].apply(extract_values, args=('amount',))\n"
   ]
  },
  {
   "cell_type": "code",
   "execution_count": 177,
   "metadata": {
    "ExecuteTime": {
     "end_time": "2023-06-16T05:21:32.598481Z",
     "start_time": "2023-06-16T05:21:32.582973Z"
    }
   },
   "outputs": [
    {
     "data": {
      "text/plain": [
       "array([   nan,   0.83,  34.56, ..., 685.07, 405.04, 476.33])"
      ]
     },
     "execution_count": 177,
     "metadata": {},
     "output_type": "execute_result"
    }
   ],
   "source": [
    "#Count each unique value in the column amount\n",
    "transcript['amount'].unique()"
   ]
  },
  {
   "cell_type": "markdown",
   "metadata": {},
   "source": [
    "Renaming the columns to prepare the dataframe to be merged."
   ]
  },
  {
   "cell_type": "code",
   "execution_count": 178,
   "metadata": {
    "ExecuteTime": {
     "end_time": "2023-06-16T05:21:32.605376Z",
     "start_time": "2023-06-16T05:21:32.599406Z"
    }
   },
   "outputs": [],
   "source": [
    "# Renaming the columns\n",
    "transcript.rename(columns={\"offer id\":\"offer_id\",\"person\":\"customer_id\"},inplace=True)"
   ]
  },
  {
   "cell_type": "markdown",
   "metadata": {},
   "source": [
    "## Analyzing 'portfolio' dataframe\n",
    "Porfolio contains information regarding offers. Duration of the offers, type, etc."
   ]
  },
  {
   "cell_type": "code",
   "execution_count": 179,
   "metadata": {},
   "outputs": [
    {
     "data": {
      "text/html": [
       "<div>\n",
       "<style scoped>\n",
       "    .dataframe tbody tr th:only-of-type {\n",
       "        vertical-align: middle;\n",
       "    }\n",
       "\n",
       "    .dataframe tbody tr th {\n",
       "        vertical-align: top;\n",
       "    }\n",
       "\n",
       "    .dataframe thead th {\n",
       "        text-align: right;\n",
       "    }\n",
       "</style>\n",
       "<table border=\"1\" class=\"dataframe\">\n",
       "  <thead>\n",
       "    <tr style=\"text-align: right;\">\n",
       "      <th></th>\n",
       "      <th>reward</th>\n",
       "      <th>channels</th>\n",
       "      <th>difficulty</th>\n",
       "      <th>duration</th>\n",
       "      <th>offer_type</th>\n",
       "      <th>id</th>\n",
       "    </tr>\n",
       "  </thead>\n",
       "  <tbody>\n",
       "    <tr>\n",
       "      <th>0</th>\n",
       "      <td>10</td>\n",
       "      <td>[email, mobile, social]</td>\n",
       "      <td>10</td>\n",
       "      <td>7</td>\n",
       "      <td>bogo</td>\n",
       "      <td>ae264e3637204a6fb9bb56bc8210ddfd</td>\n",
       "    </tr>\n",
       "    <tr>\n",
       "      <th>1</th>\n",
       "      <td>10</td>\n",
       "      <td>[web, email, mobile, social]</td>\n",
       "      <td>10</td>\n",
       "      <td>5</td>\n",
       "      <td>bogo</td>\n",
       "      <td>4d5c57ea9a6940dd891ad53e9dbe8da0</td>\n",
       "    </tr>\n",
       "    <tr>\n",
       "      <th>2</th>\n",
       "      <td>0</td>\n",
       "      <td>[web, email, mobile]</td>\n",
       "      <td>0</td>\n",
       "      <td>4</td>\n",
       "      <td>informational</td>\n",
       "      <td>3f207df678b143eea3cee63160fa8bed</td>\n",
       "    </tr>\n",
       "    <tr>\n",
       "      <th>3</th>\n",
       "      <td>5</td>\n",
       "      <td>[web, email, mobile]</td>\n",
       "      <td>5</td>\n",
       "      <td>7</td>\n",
       "      <td>bogo</td>\n",
       "      <td>9b98b8c7a33c4b65b9aebfe6a799e6d9</td>\n",
       "    </tr>\n",
       "    <tr>\n",
       "      <th>4</th>\n",
       "      <td>5</td>\n",
       "      <td>[web, email]</td>\n",
       "      <td>20</td>\n",
       "      <td>10</td>\n",
       "      <td>discount</td>\n",
       "      <td>0b1e1539f2cc45b7b9fa7c272da2e1d7</td>\n",
       "    </tr>\n",
       "  </tbody>\n",
       "</table>\n",
       "</div>"
      ],
      "text/plain": [
       "   reward                      channels  difficulty  duration     offer_type  \\\n",
       "0      10       [email, mobile, social]          10         7           bogo   \n",
       "1      10  [web, email, mobile, social]          10         5           bogo   \n",
       "2       0          [web, email, mobile]           0         4  informational   \n",
       "3       5          [web, email, mobile]           5         7           bogo   \n",
       "4       5                  [web, email]          20        10       discount   \n",
       "\n",
       "                                 id  \n",
       "0  ae264e3637204a6fb9bb56bc8210ddfd  \n",
       "1  4d5c57ea9a6940dd891ad53e9dbe8da0  \n",
       "2  3f207df678b143eea3cee63160fa8bed  \n",
       "3  9b98b8c7a33c4b65b9aebfe6a799e6d9  \n",
       "4  0b1e1539f2cc45b7b9fa7c272da2e1d7  "
      ]
     },
     "execution_count": 179,
     "metadata": {},
     "output_type": "execute_result"
    }
   ],
   "source": [
    "#Check dataframe\n",
    "portfolio.head(5)"
   ]
  },
  {
   "cell_type": "code",
   "execution_count": 180,
   "metadata": {},
   "outputs": [
    {
     "data": {
      "text/plain": [
       "reward        0\n",
       "channels      0\n",
       "difficulty    0\n",
       "duration      0\n",
       "offer_type    0\n",
       "id            0\n",
       "dtype: int64"
      ]
     },
     "execution_count": 180,
     "metadata": {},
     "output_type": "execute_result"
    }
   ],
   "source": [
    "#Check for null values\n",
    "portfolio.isna().sum()"
   ]
  },
  {
   "cell_type": "markdown",
   "metadata": {},
   "source": [
    "We will make further analysis with this dataframe later on."
   ]
  },
  {
   "cell_type": "markdown",
   "metadata": {},
   "source": [
    "# Data Cleaning\n",
    "\n",
    "## Profile dataset\n",
    "We will proceed to analyze the information in profile dataset, to understand more about Starbucks members."
   ]
  },
  {
   "cell_type": "code",
   "execution_count": 181,
   "metadata": {
    "ExecuteTime": {
     "end_time": "2023-06-16T05:21:32.658127Z",
     "start_time": "2023-06-16T05:21:32.625985Z"
    },
    "scrolled": false
   },
   "outputs": [
    {
     "data": {
      "text/plain": [
       "array([None, 'F', 'M', 'O'], dtype=object)"
      ]
     },
     "execution_count": 181,
     "metadata": {},
     "output_type": "execute_result"
    }
   ],
   "source": [
    "# Check unique genders\n",
    "profile['gender'].unique()"
   ]
  },
  {
   "cell_type": "code",
   "execution_count": 182,
   "metadata": {
    "ExecuteTime": {
     "end_time": "2023-06-16T05:21:32.658202Z",
     "start_time": "2023-06-16T05:21:32.638004Z"
    }
   },
   "outputs": [],
   "source": [
    "# Convert the 'gender' column into separate binary/dummy columns for each gender category\n",
    "profile = pd.get_dummies(profile, columns=['gender'])\n",
    "\n",
    "# Rename the generated dummy columns for better readability\n",
    "profile.rename(\n",
    "    columns={\"gender_F\": \"female\", \"gender_M\": \"male\", \"gender_O\": \"other_gender\"},\n",
    "    inplace=True\n",
    ")\n"
   ]
  },
  {
   "cell_type": "code",
   "execution_count": 183,
   "metadata": {
    "ExecuteTime": {
     "end_time": "2023-06-16T05:21:32.677197Z",
     "start_time": "2023-06-16T05:21:32.660573Z"
    },
    "scrolled": true
   },
   "outputs": [
    {
     "data": {
      "text/html": [
       "<div>\n",
       "<style scoped>\n",
       "    .dataframe tbody tr th:only-of-type {\n",
       "        vertical-align: middle;\n",
       "    }\n",
       "\n",
       "    .dataframe tbody tr th {\n",
       "        vertical-align: top;\n",
       "    }\n",
       "\n",
       "    .dataframe thead th {\n",
       "        text-align: right;\n",
       "    }\n",
       "</style>\n",
       "<table border=\"1\" class=\"dataframe\">\n",
       "  <thead>\n",
       "    <tr style=\"text-align: right;\">\n",
       "      <th></th>\n",
       "      <th>age</th>\n",
       "      <th>customer_id</th>\n",
       "      <th>became_member_on</th>\n",
       "      <th>income</th>\n",
       "      <th>female</th>\n",
       "      <th>male</th>\n",
       "      <th>other_gender</th>\n",
       "    </tr>\n",
       "  </thead>\n",
       "  <tbody>\n",
       "    <tr>\n",
       "      <th>0</th>\n",
       "      <td>118</td>\n",
       "      <td>68be06ca386d4c31939f3a4f0e3dd783</td>\n",
       "      <td>2017-02-12</td>\n",
       "      <td>NaN</td>\n",
       "      <td>False</td>\n",
       "      <td>False</td>\n",
       "      <td>False</td>\n",
       "    </tr>\n",
       "    <tr>\n",
       "      <th>1</th>\n",
       "      <td>55</td>\n",
       "      <td>0610b486422d4921ae7d2bf64640c50b</td>\n",
       "      <td>2017-07-15</td>\n",
       "      <td>112000.0</td>\n",
       "      <td>True</td>\n",
       "      <td>False</td>\n",
       "      <td>False</td>\n",
       "    </tr>\n",
       "    <tr>\n",
       "      <th>2</th>\n",
       "      <td>118</td>\n",
       "      <td>38fe809add3b4fcf9315a9694bb96ff5</td>\n",
       "      <td>2018-07-12</td>\n",
       "      <td>NaN</td>\n",
       "      <td>False</td>\n",
       "      <td>False</td>\n",
       "      <td>False</td>\n",
       "    </tr>\n",
       "    <tr>\n",
       "      <th>3</th>\n",
       "      <td>75</td>\n",
       "      <td>78afa995795e4d85b5d9ceeca43f5fef</td>\n",
       "      <td>2017-05-09</td>\n",
       "      <td>100000.0</td>\n",
       "      <td>True</td>\n",
       "      <td>False</td>\n",
       "      <td>False</td>\n",
       "    </tr>\n",
       "    <tr>\n",
       "      <th>4</th>\n",
       "      <td>118</td>\n",
       "      <td>a03223e636434f42ac4c3df47e8bac43</td>\n",
       "      <td>2017-08-04</td>\n",
       "      <td>NaN</td>\n",
       "      <td>False</td>\n",
       "      <td>False</td>\n",
       "      <td>False</td>\n",
       "    </tr>\n",
       "  </tbody>\n",
       "</table>\n",
       "</div>"
      ],
      "text/plain": [
       "   age                       customer_id became_member_on    income  female  \\\n",
       "0  118  68be06ca386d4c31939f3a4f0e3dd783       2017-02-12       NaN   False   \n",
       "1   55  0610b486422d4921ae7d2bf64640c50b       2017-07-15  112000.0    True   \n",
       "2  118  38fe809add3b4fcf9315a9694bb96ff5       2018-07-12       NaN   False   \n",
       "3   75  78afa995795e4d85b5d9ceeca43f5fef       2017-05-09  100000.0    True   \n",
       "4  118  a03223e636434f42ac4c3df47e8bac43       2017-08-04       NaN   False   \n",
       "\n",
       "    male  other_gender  \n",
       "0  False         False  \n",
       "1  False         False  \n",
       "2  False         False  \n",
       "3  False         False  \n",
       "4  False         False  "
      ]
     },
     "execution_count": 183,
     "metadata": {},
     "output_type": "execute_result"
    }
   ],
   "source": [
    "# Check new columns\n",
    "profile.head(5)"
   ]
  },
  {
   "cell_type": "markdown",
   "metadata": {},
   "source": [
    "#Age outliers\n",
    "We will analyze 'Age' column and check if there are anomalies."
   ]
  },
  {
   "cell_type": "code",
   "execution_count": 184,
   "metadata": {
    "ExecuteTime": {
     "end_time": "2023-06-16T05:21:32.741613Z",
     "start_time": "2023-06-16T05:21:32.666162Z"
    },
    "scrolled": true
   },
   "outputs": [
    {
     "data": {
      "text/plain": [
       "count    17000.000000\n",
       "mean        62.531412\n",
       "std         26.738580\n",
       "min         18.000000\n",
       "25%         45.000000\n",
       "50%         58.000000\n",
       "75%         73.000000\n",
       "max        118.000000\n",
       "Name: age, dtype: float64"
      ]
     },
     "execution_count": 184,
     "metadata": {},
     "output_type": "execute_result"
    }
   ],
   "source": [
    "# Check information in the age column\n",
    "profile['age'].describe()"
   ]
  },
  {
   "cell_type": "markdown",
   "metadata": {},
   "source": [
    "The dataset includes 17,000 customers with an average age of approximately 62.5 years. \n",
    "Ages range from 18 to 118. The upper limit of 118 is unusually high and doesn't make sense if we are speaking about ages. This may indicate potential data entry errors. \n",
    "Most customers are between 45 and 73 years old , with a median age of 58, reflecting a slightly older demographic overall. \n",
    "We have to address now the the validity of the maximum age value."
   ]
  },
  {
   "cell_type": "code",
   "execution_count": 185,
   "metadata": {
    "ExecuteTime": {
     "end_time": "2023-06-16T05:21:32.765Z",
     "start_time": "2023-06-16T05:21:32.695641Z"
    },
    "scrolled": true
   },
   "outputs": [
    {
     "data": {
      "text/html": [
       "<div>\n",
       "<style scoped>\n",
       "    .dataframe tbody tr th:only-of-type {\n",
       "        vertical-align: middle;\n",
       "    }\n",
       "\n",
       "    .dataframe tbody tr th {\n",
       "        vertical-align: top;\n",
       "    }\n",
       "\n",
       "    .dataframe thead th {\n",
       "        text-align: right;\n",
       "    }\n",
       "</style>\n",
       "<table border=\"1\" class=\"dataframe\">\n",
       "  <thead>\n",
       "    <tr style=\"text-align: right;\">\n",
       "      <th></th>\n",
       "      <th>age</th>\n",
       "      <th>customer_id</th>\n",
       "      <th>became_member_on</th>\n",
       "      <th>income</th>\n",
       "      <th>female</th>\n",
       "      <th>male</th>\n",
       "      <th>other_gender</th>\n",
       "    </tr>\n",
       "  </thead>\n",
       "  <tbody>\n",
       "    <tr>\n",
       "      <th>0</th>\n",
       "      <td>118</td>\n",
       "      <td>68be06ca386d4c31939f3a4f0e3dd783</td>\n",
       "      <td>2017-02-12</td>\n",
       "      <td>NaN</td>\n",
       "      <td>False</td>\n",
       "      <td>False</td>\n",
       "      <td>False</td>\n",
       "    </tr>\n",
       "    <tr>\n",
       "      <th>2</th>\n",
       "      <td>118</td>\n",
       "      <td>38fe809add3b4fcf9315a9694bb96ff5</td>\n",
       "      <td>2018-07-12</td>\n",
       "      <td>NaN</td>\n",
       "      <td>False</td>\n",
       "      <td>False</td>\n",
       "      <td>False</td>\n",
       "    </tr>\n",
       "    <tr>\n",
       "      <th>4</th>\n",
       "      <td>118</td>\n",
       "      <td>a03223e636434f42ac4c3df47e8bac43</td>\n",
       "      <td>2017-08-04</td>\n",
       "      <td>NaN</td>\n",
       "      <td>False</td>\n",
       "      <td>False</td>\n",
       "      <td>False</td>\n",
       "    </tr>\n",
       "    <tr>\n",
       "      <th>6</th>\n",
       "      <td>118</td>\n",
       "      <td>8ec6ce2a7e7949b1bf142def7d0e0586</td>\n",
       "      <td>2017-09-25</td>\n",
       "      <td>NaN</td>\n",
       "      <td>False</td>\n",
       "      <td>False</td>\n",
       "      <td>False</td>\n",
       "    </tr>\n",
       "    <tr>\n",
       "      <th>7</th>\n",
       "      <td>118</td>\n",
       "      <td>68617ca6246f4fbc85e91a2a49552598</td>\n",
       "      <td>2017-10-02</td>\n",
       "      <td>NaN</td>\n",
       "      <td>False</td>\n",
       "      <td>False</td>\n",
       "      <td>False</td>\n",
       "    </tr>\n",
       "  </tbody>\n",
       "</table>\n",
       "</div>"
      ],
      "text/plain": [
       "   age                       customer_id became_member_on  income  female  \\\n",
       "0  118  68be06ca386d4c31939f3a4f0e3dd783       2017-02-12     NaN   False   \n",
       "2  118  38fe809add3b4fcf9315a9694bb96ff5       2018-07-12     NaN   False   \n",
       "4  118  a03223e636434f42ac4c3df47e8bac43       2017-08-04     NaN   False   \n",
       "6  118  8ec6ce2a7e7949b1bf142def7d0e0586       2017-09-25     NaN   False   \n",
       "7  118  68617ca6246f4fbc85e91a2a49552598       2017-10-02     NaN   False   \n",
       "\n",
       "    male  other_gender  \n",
       "0  False         False  \n",
       "2  False         False  \n",
       "4  False         False  \n",
       "6  False         False  \n",
       "7  False         False  "
      ]
     },
     "execution_count": 185,
     "metadata": {},
     "output_type": "execute_result"
    }
   ],
   "source": [
    "# Filter customers with an age of 118\n",
    "profile_118 = profile[profile['age'] == 118]\n",
    "\n",
    "# Check the filtered dataframe\n",
    "profile_118.head(5)\n"
   ]
  },
  {
   "cell_type": "code",
   "execution_count": 186,
   "metadata": {},
   "outputs": [
    {
     "name": "stdout",
     "output_type": "stream",
     "text": [
      "Total number of entries with an age of 118: 2175\n"
     ]
    }
   ],
   "source": [
    "# Count the total number of entries where age is 118\n",
    "total_118 = (profile['age'] == 118).sum()\n",
    "\n",
    "print(f\"Total number of entries with an age of 118: {total_118}\")\n"
   ]
  },
  {
   "cell_type": "code",
   "execution_count": 187,
   "metadata": {
    "ExecuteTime": {
     "end_time": "2023-06-16T05:21:32.802955Z",
     "start_time": "2023-06-16T05:21:32.703934Z"
    }
   },
   "outputs": [
    {
     "data": {
      "text/plain": [
       "age                    0\n",
       "customer_id            0\n",
       "became_member_on       0\n",
       "income              2175\n",
       "female                 0\n",
       "male                   0\n",
       "other_gender           0\n",
       "dtype: int64"
      ]
     },
     "execution_count": 187,
     "metadata": {},
     "output_type": "execute_result"
    }
   ],
   "source": [
    "# Check empty records in the rows where there's an age equal to 118\n",
    "missing_values = profile_118.isna().sum()\n",
    "\n",
    "# Display the total count of missing values for each column\n",
    "missing_values"
   ]
  },
  {
   "cell_type": "markdown",
   "metadata": {},
   "source": [
    "The dataset shows that there are 2175 missing values in the income column for users with an age of 118. \n",
    "However, there are no missing values in other columns. "
   ]
  },
  {
   "cell_type": "code",
   "execution_count": 189,
   "metadata": {
    "ExecuteTime": {
     "end_time": "2023-06-16T05:21:33.179402Z",
     "start_time": "2023-06-16T05:21:32.720389Z"
    }
   },
   "outputs": [
    {
     "data": {
      "image/png": "[encoded data removed]",
      "text/plain": [
       "<Figure size 640x480 with 1 Axes>"
      ]
     },
     "metadata": {},
     "output_type": "display_data"
    }
   ],
   "source": [
    "# Set a pastel color palette\n",
    "sns.set_palette(\"pastel\")\n",
    "\n",
    "# Plotting the histogram of age with pastel color\n",
    "# Added kde for a smoother curve\n",
    "sns.histplot(profile['age'], kde=True)  \n",
    "plt.title(\"Age Distribution\", fontsize=16)\n",
    "plt.xlabel(\"Age\", fontsize=12)\n",
    "plt.ylabel(\"Frequency\", fontsize=12)  \n",
    "\n",
    "# Show the plot\n",
    "plt.show()"
   ]
  },
  {
   "cell_type": "markdown",
   "metadata": {},
   "source": [
    "The age of 118 appears to be an outlier, as it is highly unusual and likely a data entry error. To get a clean dataset, we will replace this values for NaN values. This will ensure the dataset accurately reflects valid customer ages."
   ]
  },
  {
   "cell_type": "code",
   "execution_count": 190,
   "metadata": {
    "ExecuteTime": {
     "end_time": "2023-06-16T05:21:33.192625Z",
     "start_time": "2023-06-16T05:21:33.188856Z"
    }
   },
   "outputs": [],
   "source": [
    "# Replace the age of 118 with NaN to address the outlier\n",
    "profile['age'] = profile['age'].replace(118, np.nan)\n"
   ]
  },
  {
   "cell_type": "code",
   "execution_count": 191,
   "metadata": {
    "ExecuteTime": {
     "end_time": "2023-06-16T05:21:33.289820Z",
     "start_time": "2023-06-16T05:21:33.198291Z"
    }
   },
   "outputs": [
    {
     "name": "stdout",
     "output_type": "stream",
     "text": [
      "Found 0 records with age 118.\n"
     ]
    }
   ],
   "source": [
    "# # Filter the dataset to find all records where the age is 118\n",
    "age_118_records = profile[profile['age'] == 118]\n",
    "\n",
    "# Display the number of records with age 118 for further investigation\n",
    "print(f\"Found {len(age_118_records)} records with age 118.\")"
   ]
  },
  {
   "cell_type": "markdown",
   "metadata": {},
   "source": [
    "Now we don't have outliers in the age column.\n",
    "To have a clean dataset we'll need to drop the Nan values."
   ]
  },
  {
   "cell_type": "code",
   "execution_count": 192,
   "metadata": {
    "ExecuteTime": {
     "end_time": "2023-06-16T05:21:33.289948Z",
     "start_time": "2023-06-16T05:21:33.209151Z"
    }
   },
   "outputs": [],
   "source": [
    "# Dropping values with NaN\n",
    "profile.dropna(inplace=True)"
   ]
  },
  {
   "cell_type": "markdown",
   "metadata": {
    "ExecuteTime": {
     "end_time": "2023-06-16T05:21:33.290480Z",
     "start_time": "2023-06-16T05:21:33.221316Z"
    }
   },
   "source": [
    "#Age clusters\n",
    "\n",
    "We’re going to divide the age column into different groups or \"bins\" to better understand the different age ranges of our customers. We’ll categorize the ages into three main groups:\n",
    "\n",
    "Young Adult (18-25 years old): This group includes customers who are between 18 and 25 years old.\n",
    "Adult (26-65 years old): This group includes customers who are between 26 and 65 years old.\n",
    "Senior (65 years and older): This group includes customers who are 65 years old or older.\n",
    "Each group will be assigned a number:\n",
    "\n",
    "Young Adult will be labeled as 1.\n",
    "Adult will be labeled as 2.\n",
    "Senior will be labeled as 3.\n",
    "This way, we can quickly categorize our customers into these three groups for better analysis."
   ]
  },
  {
   "cell_type": "code",
   "execution_count": 193,
   "metadata": {},
   "outputs": [],
   "source": [
    "# Step 1: Define bins based on age categories\n",
    "# The `min()` and `max()` functions get the minimum and maximum ages from the 'age' column to ensure all ages are included.\n",
    "bins = [profile['age'].min(), 25, 65, profile['age'].max() + 1]  \n",
    "labels = ['young_adult', 'adult', 'senior']  \n",
    "\n",
    "# Step 2: Create a new column 'age_category' that assigns each customer to an age group based on the 'bins' and 'labels'.\n",
    "profile['age_category'] = pd.cut(profile['age'], bins=bins, labels=labels, include_lowest=True)\n",
    "\n",
    "# Step 3: Ensure the 'age_category' column is a categorical variable.\n",
    "profile['age_category'] = pd.Categorical(profile['age_category'], categories=labels, ordered=True)\n",
    "\n",
    "# Step 4: Map the age group categories to numerical values for easier analysis.\n",
    "age_map_values = {'young_adult': 1, 'adult': 2, 'senior': 3}\n",
    "profile['age_bins'] = profile['age_category'].map(age_map_values)\n"
   ]
  },
  {
   "cell_type": "markdown",
   "metadata": {},
   "source": [
    "Since the 'age_bins' column already holds the numerical representation of the age groups, we no longer need the original 'age' and 'age_category' columns.\n"
   ]
  },
  {
   "cell_type": "code",
   "execution_count": 194,
   "metadata": {
    "ExecuteTime": {
     "end_time": "2023-06-16T05:21:33.291398Z",
     "start_time": "2023-06-16T05:21:33.263228Z"
    }
   },
   "outputs": [],
   "source": [
    "# Drop the 'age' and 'age_category' columns from the profile dataframe\n",
    "profile.drop(['age','age_category'],axis=1,inplace=True)"
   ]
  },
  {
   "cell_type": "code",
   "execution_count": 195,
   "metadata": {
    "ExecuteTime": {
     "end_time": "2023-06-16T05:21:33.291531Z",
     "start_time": "2023-06-16T05:21:33.283301Z"
    },
    "scrolled": false
   },
   "outputs": [
    {
     "data": {
      "text/html": [
       "<div>\n",
       "<style scoped>\n",
       "    .dataframe tbody tr th:only-of-type {\n",
       "        vertical-align: middle;\n",
       "    }\n",
       "\n",
       "    .dataframe tbody tr th {\n",
       "        vertical-align: top;\n",
       "    }\n",
       "\n",
       "    .dataframe thead th {\n",
       "        text-align: right;\n",
       "    }\n",
       "</style>\n",
       "<table border=\"1\" class=\"dataframe\">\n",
       "  <thead>\n",
       "    <tr style=\"text-align: right;\">\n",
       "      <th></th>\n",
       "      <th>customer_id</th>\n",
       "      <th>became_member_on</th>\n",
       "      <th>income</th>\n",
       "      <th>female</th>\n",
       "      <th>male</th>\n",
       "      <th>other_gender</th>\n",
       "      <th>age_bins</th>\n",
       "    </tr>\n",
       "  </thead>\n",
       "  <tbody>\n",
       "    <tr>\n",
       "      <th>1</th>\n",
       "      <td>0610b486422d4921ae7d2bf64640c50b</td>\n",
       "      <td>2017-07-15</td>\n",
       "      <td>112000.0</td>\n",
       "      <td>True</td>\n",
       "      <td>False</td>\n",
       "      <td>False</td>\n",
       "      <td>2</td>\n",
       "    </tr>\n",
       "    <tr>\n",
       "      <th>3</th>\n",
       "      <td>78afa995795e4d85b5d9ceeca43f5fef</td>\n",
       "      <td>2017-05-09</td>\n",
       "      <td>100000.0</td>\n",
       "      <td>True</td>\n",
       "      <td>False</td>\n",
       "      <td>False</td>\n",
       "      <td>3</td>\n",
       "    </tr>\n",
       "    <tr>\n",
       "      <th>5</th>\n",
       "      <td>e2127556f4f64592b11af22de27a7932</td>\n",
       "      <td>2018-04-26</td>\n",
       "      <td>70000.0</td>\n",
       "      <td>False</td>\n",
       "      <td>True</td>\n",
       "      <td>False</td>\n",
       "      <td>3</td>\n",
       "    </tr>\n",
       "    <tr>\n",
       "      <th>8</th>\n",
       "      <td>389bc3fa690240e798340f5a15918d5c</td>\n",
       "      <td>2018-02-09</td>\n",
       "      <td>53000.0</td>\n",
       "      <td>False</td>\n",
       "      <td>True</td>\n",
       "      <td>False</td>\n",
       "      <td>2</td>\n",
       "    </tr>\n",
       "    <tr>\n",
       "      <th>12</th>\n",
       "      <td>2eeac8d8feae4a8cad5a6af0499a211d</td>\n",
       "      <td>2017-11-11</td>\n",
       "      <td>51000.0</td>\n",
       "      <td>False</td>\n",
       "      <td>True</td>\n",
       "      <td>False</td>\n",
       "      <td>2</td>\n",
       "    </tr>\n",
       "  </tbody>\n",
       "</table>\n",
       "</div>"
      ],
      "text/plain": [
       "                         customer_id became_member_on    income  female  \\\n",
       "1   0610b486422d4921ae7d2bf64640c50b       2017-07-15  112000.0    True   \n",
       "3   78afa995795e4d85b5d9ceeca43f5fef       2017-05-09  100000.0    True   \n",
       "5   e2127556f4f64592b11af22de27a7932       2018-04-26   70000.0   False   \n",
       "8   389bc3fa690240e798340f5a15918d5c       2018-02-09   53000.0   False   \n",
       "12  2eeac8d8feae4a8cad5a6af0499a211d       2017-11-11   51000.0   False   \n",
       "\n",
       "     male  other_gender age_bins  \n",
       "1   False         False        2  \n",
       "3   False         False        3  \n",
       "5    True         False        3  \n",
       "8    True         False        2  \n",
       "12   True         False        2  "
      ]
     },
     "execution_count": 195,
     "metadata": {},
     "output_type": "execute_result"
    }
   ],
   "source": [
    "#Check dataframe\n",
    "profile.head(5)"
   ]
  },
  {
   "cell_type": "code",
   "execution_count": 196,
   "metadata": {
    "scrolled": true
   },
   "outputs": [
    {
     "name": "stdout",
     "output_type": "stream",
     "text": [
      "age_bins\n",
      "2    9827\n",
      "3    3986\n",
      "1    1012\n",
      "Name: count, dtype: int64\n"
     ]
    }
   ],
   "source": [
    "# Check the weight of each age bin in the dataset\n",
    "age_bin_counts = profile['age_bins'].value_counts()\n",
    "\n",
    "# Display the counts for each bin\n",
    "print(age_bin_counts)\n"
   ]
  },
  {
   "cell_type": "markdown",
   "metadata": {},
   "source": [
    "The distribution of users across the age groups is as follows:\n",
    "\n",
    "Adult (Age 25-65): 9827 users (the majority of the dataset).\n",
    "Senior (Age 65 and older): 3986 users.\n",
    "Young Adult (Age 18-25): 1012 users (the smallest group)."
   ]
  },
  {
   "cell_type": "code",
   "execution_count": 198,
   "metadata": {},
   "outputs": [
    {
     "data": {
      "image/png": "[encoded data removed]",
      "text/plain": [
       "<Figure size 640x480 with 1 Axes>"
      ]
     },
     "metadata": {},
     "output_type": "display_data"
    }
   ],
   "source": [
    "# Create a bar plot for the distribution of age bins\n",
    "sns.countplot(x='age_bins', data=profile, palette=\"pastel\", order=[1, 2, 3])\n",
    "\n",
    "# Customize the plot\n",
    "plt.title('Distribution of Users by Age Group', fontsize=16)\n",
    "plt.xlabel('Age Group', fontsize=12)\n",
    "plt.ylabel('Number of Users', fontsize=12)\n",
    "plt.xticks([0, 1, 2], ['Young Adult', 'Adult', 'Senior'], rotation=0)\n",
    "\n",
    "# Display the plot\n",
    "plt.tight_layout()\n",
    "plt.show()\n"
   ]
  },
  {
   "cell_type": "markdown",
   "metadata": {},
   "source": [
    "#Income clústers\n",
    "\n",
    "We will categorize users based on their income into three distinct bins to better understand their financial profile. This will help us segment the users and analyze their behavior more effectively. The categories are:\n",
    "\n",
    "Moderate (1): Users with a relatively low to medium income level.\n",
    "Good (2): Users with a mid to high income level.\n",
    "Excellent (3): Users with a high income level."
   ]
  },
  {
   "cell_type": "code",
   "execution_count": 199,
   "metadata": {},
   "outputs": [
    {
     "data": {
      "text/html": [
       "<div>\n",
       "<style scoped>\n",
       "    .dataframe tbody tr th:only-of-type {\n",
       "        vertical-align: middle;\n",
       "    }\n",
       "\n",
       "    .dataframe tbody tr th {\n",
       "        vertical-align: top;\n",
       "    }\n",
       "\n",
       "    .dataframe thead th {\n",
       "        text-align: right;\n",
       "    }\n",
       "</style>\n",
       "<table border=\"1\" class=\"dataframe\">\n",
       "  <thead>\n",
       "    <tr style=\"text-align: right;\">\n",
       "      <th></th>\n",
       "      <th>income</th>\n",
       "      <th>income_labels</th>\n",
       "      <th>income_bins</th>\n",
       "    </tr>\n",
       "  </thead>\n",
       "  <tbody>\n",
       "    <tr>\n",
       "      <th>1</th>\n",
       "      <td>112000.0</td>\n",
       "      <td>excellent</td>\n",
       "      <td>3</td>\n",
       "    </tr>\n",
       "    <tr>\n",
       "      <th>3</th>\n",
       "      <td>100000.0</td>\n",
       "      <td>excellent</td>\n",
       "      <td>3</td>\n",
       "    </tr>\n",
       "    <tr>\n",
       "      <th>5</th>\n",
       "      <td>70000.0</td>\n",
       "      <td>good</td>\n",
       "      <td>2</td>\n",
       "    </tr>\n",
       "    <tr>\n",
       "      <th>8</th>\n",
       "      <td>53000.0</td>\n",
       "      <td>good</td>\n",
       "      <td>2</td>\n",
       "    </tr>\n",
       "    <tr>\n",
       "      <th>12</th>\n",
       "      <td>51000.0</td>\n",
       "      <td>good</td>\n",
       "      <td>2</td>\n",
       "    </tr>\n",
       "  </tbody>\n",
       "</table>\n",
       "</div>"
      ],
      "text/plain": [
       "      income income_labels income_bins\n",
       "1   112000.0     excellent           3\n",
       "3   100000.0     excellent           3\n",
       "5    70000.0          good           2\n",
       "8    53000.0          good           2\n",
       "12   51000.0          good           2"
      ]
     },
     "execution_count": 199,
     "metadata": {},
     "output_type": "execute_result"
    }
   ],
   "source": [
    "# Check for missing values in 'income' column\n",
    "profile['income'].isna().sum()\n",
    "\n",
    "# Define income bins and labels\n",
    "income_bins = [0, 30000, 70000, profile['income'].max()] \n",
    "income_labels = ['moderate', 'good', 'excellent']\n",
    "\n",
    "# Create a new column for income categories\n",
    "profile['income_labels'] = pd.cut(profile['income'], bins=income_bins, labels=income_labels, include_lowest=True)\n",
    "\n",
    "# Assigning numerical values to income categories\n",
    "income_map_values = {'moderate': 1, 'good': 2, 'excellent': 3}\n",
    "profile['income_bins'] = profile['income_labels'].map(income_map_values)\n",
    "\n",
    "# Check the result\n",
    "profile[['income', 'income_labels', 'income_bins']].head()\n",
    "\n"
   ]
  },
  {
   "cell_type": "code",
   "execution_count": 201,
   "metadata": {
    "ExecuteTime": {
     "end_time": "2023-06-16T05:21:33.434088Z",
     "start_time": "2023-06-16T05:21:33.312245Z"
    }
   },
   "outputs": [
    {
     "data": {
      "text/html": [
       "<div>\n",
       "<style scoped>\n",
       "    .dataframe tbody tr th:only-of-type {\n",
       "        vertical-align: middle;\n",
       "    }\n",
       "\n",
       "    .dataframe tbody tr th {\n",
       "        vertical-align: top;\n",
       "    }\n",
       "\n",
       "    .dataframe thead th {\n",
       "        text-align: right;\n",
       "    }\n",
       "</style>\n",
       "<table border=\"1\" class=\"dataframe\">\n",
       "  <thead>\n",
       "    <tr style=\"text-align: right;\">\n",
       "      <th></th>\n",
       "      <th>income</th>\n",
       "      <th>income_labels</th>\n",
       "      <th>income_bins</th>\n",
       "    </tr>\n",
       "  </thead>\n",
       "  <tbody>\n",
       "    <tr>\n",
       "      <th>1</th>\n",
       "      <td>112000.0</td>\n",
       "      <td>excellent</td>\n",
       "      <td>3</td>\n",
       "    </tr>\n",
       "    <tr>\n",
       "      <th>3</th>\n",
       "      <td>100000.0</td>\n",
       "      <td>excellent</td>\n",
       "      <td>3</td>\n",
       "    </tr>\n",
       "    <tr>\n",
       "      <th>5</th>\n",
       "      <td>70000.0</td>\n",
       "      <td>good</td>\n",
       "      <td>2</td>\n",
       "    </tr>\n",
       "    <tr>\n",
       "      <th>8</th>\n",
       "      <td>53000.0</td>\n",
       "      <td>good</td>\n",
       "      <td>2</td>\n",
       "    </tr>\n",
       "    <tr>\n",
       "      <th>12</th>\n",
       "      <td>51000.0</td>\n",
       "      <td>good</td>\n",
       "      <td>2</td>\n",
       "    </tr>\n",
       "  </tbody>\n",
       "</table>\n",
       "</div>"
      ],
      "text/plain": [
       "      income income_labels income_bins\n",
       "1   112000.0     excellent           3\n",
       "3   100000.0     excellent           3\n",
       "5    70000.0          good           2\n",
       "8    53000.0          good           2\n",
       "12   51000.0          good           2"
      ]
     },
     "execution_count": 201,
     "metadata": {},
     "output_type": "execute_result"
    }
   ],
   "source": [
    "# Check income values, income categories, and numerical bins\n",
    "profile[['income','income_labels','income_bins']].head(5)"
   ]
  },
  {
   "cell_type": "code",
   "execution_count": 202,
   "metadata": {
    "ExecuteTime": {
     "end_time": "2023-06-16T05:21:33.434259Z",
     "start_time": "2023-06-16T05:21:33.323994Z"
    }
   },
   "outputs": [],
   "source": [
    "# Dropping income and income_labels column\n",
    "profile.drop(['income_labels','income'],inplace=True,axis=1)"
   ]
  },
  {
   "cell_type": "code",
   "execution_count": 203,
   "metadata": {
    "ExecuteTime": {
     "end_time": "2023-06-16T05:21:33.510236Z",
     "start_time": "2023-06-16T05:21:33.359713Z"
    },
    "scrolled": true
   },
   "outputs": [
    {
     "data": {
      "text/html": [
       "<div>\n",
       "<style scoped>\n",
       "    .dataframe tbody tr th:only-of-type {\n",
       "        vertical-align: middle;\n",
       "    }\n",
       "\n",
       "    .dataframe tbody tr th {\n",
       "        vertical-align: top;\n",
       "    }\n",
       "\n",
       "    .dataframe thead th {\n",
       "        text-align: right;\n",
       "    }\n",
       "</style>\n",
       "<table border=\"1\" class=\"dataframe\">\n",
       "  <thead>\n",
       "    <tr style=\"text-align: right;\">\n",
       "      <th></th>\n",
       "      <th>customer_id</th>\n",
       "      <th>became_member_on</th>\n",
       "      <th>female</th>\n",
       "      <th>male</th>\n",
       "      <th>other_gender</th>\n",
       "      <th>age_bins</th>\n",
       "      <th>income_bins</th>\n",
       "    </tr>\n",
       "  </thead>\n",
       "  <tbody>\n",
       "    <tr>\n",
       "      <th>1</th>\n",
       "      <td>0610b486422d4921ae7d2bf64640c50b</td>\n",
       "      <td>2017-07-15</td>\n",
       "      <td>True</td>\n",
       "      <td>False</td>\n",
       "      <td>False</td>\n",
       "      <td>2</td>\n",
       "      <td>3</td>\n",
       "    </tr>\n",
       "    <tr>\n",
       "      <th>3</th>\n",
       "      <td>78afa995795e4d85b5d9ceeca43f5fef</td>\n",
       "      <td>2017-05-09</td>\n",
       "      <td>True</td>\n",
       "      <td>False</td>\n",
       "      <td>False</td>\n",
       "      <td>3</td>\n",
       "      <td>3</td>\n",
       "    </tr>\n",
       "    <tr>\n",
       "      <th>5</th>\n",
       "      <td>e2127556f4f64592b11af22de27a7932</td>\n",
       "      <td>2018-04-26</td>\n",
       "      <td>False</td>\n",
       "      <td>True</td>\n",
       "      <td>False</td>\n",
       "      <td>3</td>\n",
       "      <td>2</td>\n",
       "    </tr>\n",
       "    <tr>\n",
       "      <th>8</th>\n",
       "      <td>389bc3fa690240e798340f5a15918d5c</td>\n",
       "      <td>2018-02-09</td>\n",
       "      <td>False</td>\n",
       "      <td>True</td>\n",
       "      <td>False</td>\n",
       "      <td>2</td>\n",
       "      <td>2</td>\n",
       "    </tr>\n",
       "    <tr>\n",
       "      <th>12</th>\n",
       "      <td>2eeac8d8feae4a8cad5a6af0499a211d</td>\n",
       "      <td>2017-11-11</td>\n",
       "      <td>False</td>\n",
       "      <td>True</td>\n",
       "      <td>False</td>\n",
       "      <td>2</td>\n",
       "      <td>2</td>\n",
       "    </tr>\n",
       "  </tbody>\n",
       "</table>\n",
       "</div>"
      ],
      "text/plain": [
       "                         customer_id became_member_on  female   male  \\\n",
       "1   0610b486422d4921ae7d2bf64640c50b       2017-07-15    True  False   \n",
       "3   78afa995795e4d85b5d9ceeca43f5fef       2017-05-09    True  False   \n",
       "5   e2127556f4f64592b11af22de27a7932       2018-04-26   False   True   \n",
       "8   389bc3fa690240e798340f5a15918d5c       2018-02-09   False   True   \n",
       "12  2eeac8d8feae4a8cad5a6af0499a211d       2017-11-11   False   True   \n",
       "\n",
       "    other_gender age_bins income_bins  \n",
       "1          False        2           3  \n",
       "3          False        3           3  \n",
       "5          False        3           2  \n",
       "8          False        2           2  \n",
       "12         False        2           2  "
      ]
     },
     "execution_count": 203,
     "metadata": {},
     "output_type": "execute_result"
    }
   ],
   "source": [
    "# Check dataframe\n",
    "profile.head(5)"
   ]
  },
  {
   "cell_type": "code",
   "execution_count": 204,
   "metadata": {
    "scrolled": false
   },
   "outputs": [
    {
     "name": "stdout",
     "output_type": "stream",
     "text": [
      "income_bins\n",
      "2    8952\n",
      "3    5785\n",
      "1      88\n",
      "Name: count, dtype: int64\n"
     ]
    }
   ],
   "source": [
    "# Check the distribution of the different income bins in the entire dataset\n",
    "income_bin_counts = profile['income_bins'].value_counts()\n",
    "\n",
    "print(income_bin_counts)\n"
   ]
  },
  {
   "cell_type": "code",
   "execution_count": 205,
   "metadata": {
    "scrolled": true
   },
   "outputs": [
    {
     "data": {
      "image/png": "[encoded data removed]",
      "text/plain": [
       "<Figure size 640x480 with 1 Axes>"
      ]
     },
     "metadata": {},
     "output_type": "display_data"
    }
   ],
   "source": [
    "# Count the number of users in each income bin\n",
    "income_bin_counts = profile['income_bins'].value_counts()\n",
    "\n",
    "# Define labels for the bins\n",
    "income_bin_labels = {1: 'Moderate', 2: 'Good', 3: 'Excellent'}\n",
    "\n",
    "# Create the pie chart\n",
    "plt.pie(income_bin_counts, labels=[income_bin_labels[val] for val in income_bin_counts.index], \n",
    "        autopct='%1.1f%%', startangle=140, colors=['#A1D6D2', '#D1A1D6', '#A1D6A1'])\n",
    "\n",
    "# Add a title\n",
    "plt.title('Income Bin Distribution')\n",
    "\n",
    "# Display the pie chart\n",
    "plt.axis('equal') \n",
    "plt.show()\n"
   ]
  },
  {
   "cell_type": "markdown",
   "metadata": {},
   "source": [
    "The dataset shows the distribution of users across different income bins as follows:\n",
    "\n",
    "Good income (bin 2): 8952 users (around 55.1% of the total users)\n",
    "Excellent income (bin 3): 5785 users (approximately 35.9% of the total users)\n",
    "Moderate income (bin 1): 88 users (only 0.5% of the total users)\n",
    "\n",
    "This suggests that the majority of users fall into the \"Good\" and \"Excellent\" income categories, while only a small proportion of users belong to the \"Moderate\" income category. \n",
    "The low count of users in the \"Moderate\" income bin might be an anomaly, or it could suggest that the dataset is skewed toward users with higher incomes. "
   ]
  },
  {
   "cell_type": "markdown",
   "metadata": {},
   "source": [
    "### Membership seniority\n",
    "Now we will explore the membership seniority of the users."
   ]
  },
  {
   "cell_type": "code",
   "execution_count": 206,
   "metadata": {
    "ExecuteTime": {
     "end_time": "2023-06-16T05:21:33.510604Z",
     "start_time": "2023-06-16T05:21:33.366889Z"
    },
    "scrolled": false
   },
   "outputs": [
    {
     "data": {
      "text/plain": [
       "1    2017-07-15\n",
       "3    2017-05-09\n",
       "5    2018-04-26\n",
       "8    2018-02-09\n",
       "12   2017-11-11\n",
       "Name: became_member_on, dtype: datetime64[ns]"
      ]
     },
     "execution_count": 206,
     "metadata": {},
     "output_type": "execute_result"
    }
   ],
   "source": [
    "# Check data form\n",
    "profile['became_member_on'].head(5)"
   ]
  },
  {
   "cell_type": "markdown",
   "metadata": {},
   "source": [
    "Now we have a composed date YYYY-mm-dd. If we want to explore the average seniority, we need to extract year, month and day."
   ]
  },
  {
   "cell_type": "code",
   "execution_count": 207,
   "metadata": {
    "ExecuteTime": {
     "end_time": "2023-06-16T05:21:33.510684Z",
     "start_time": "2023-06-16T05:21:33.379601Z"
    }
   },
   "outputs": [],
   "source": [
    "# Extract year \n",
    "profile['member_year'] = profile['became_member_on'].dt.year\n",
    "# Extract month\n",
    "profile['member_month'] = profile['became_member_on'].dt.month\n",
    "# Extract day\n",
    "profile['member_day'] = profile['became_member_on'].dt.day"
   ]
  },
  {
   "cell_type": "code",
   "execution_count": 208,
   "metadata": {
    "ExecuteTime": {
     "end_time": "2023-06-18T07:44:03.018325Z",
     "start_time": "2023-06-18T07:44:03.016950Z"
    },
    "scrolled": true
   },
   "outputs": [
    {
     "data": {
      "text/html": [
       "<div>\n",
       "<style scoped>\n",
       "    .dataframe tbody tr th:only-of-type {\n",
       "        vertical-align: middle;\n",
       "    }\n",
       "\n",
       "    .dataframe tbody tr th {\n",
       "        vertical-align: top;\n",
       "    }\n",
       "\n",
       "    .dataframe thead th {\n",
       "        text-align: right;\n",
       "    }\n",
       "</style>\n",
       "<table border=\"1\" class=\"dataframe\">\n",
       "  <thead>\n",
       "    <tr style=\"text-align: right;\">\n",
       "      <th></th>\n",
       "      <th>customer_id</th>\n",
       "      <th>became_member_on</th>\n",
       "      <th>female</th>\n",
       "      <th>male</th>\n",
       "      <th>other_gender</th>\n",
       "      <th>age_bins</th>\n",
       "      <th>income_bins</th>\n",
       "      <th>member_year</th>\n",
       "      <th>member_month</th>\n",
       "      <th>member_day</th>\n",
       "    </tr>\n",
       "  </thead>\n",
       "  <tbody>\n",
       "    <tr>\n",
       "      <th>1</th>\n",
       "      <td>0610b486422d4921ae7d2bf64640c50b</td>\n",
       "      <td>2017-07-15</td>\n",
       "      <td>True</td>\n",
       "      <td>False</td>\n",
       "      <td>False</td>\n",
       "      <td>2</td>\n",
       "      <td>3</td>\n",
       "      <td>2017</td>\n",
       "      <td>7</td>\n",
       "      <td>15</td>\n",
       "    </tr>\n",
       "    <tr>\n",
       "      <th>3</th>\n",
       "      <td>78afa995795e4d85b5d9ceeca43f5fef</td>\n",
       "      <td>2017-05-09</td>\n",
       "      <td>True</td>\n",
       "      <td>False</td>\n",
       "      <td>False</td>\n",
       "      <td>3</td>\n",
       "      <td>3</td>\n",
       "      <td>2017</td>\n",
       "      <td>5</td>\n",
       "      <td>9</td>\n",
       "    </tr>\n",
       "    <tr>\n",
       "      <th>5</th>\n",
       "      <td>e2127556f4f64592b11af22de27a7932</td>\n",
       "      <td>2018-04-26</td>\n",
       "      <td>False</td>\n",
       "      <td>True</td>\n",
       "      <td>False</td>\n",
       "      <td>3</td>\n",
       "      <td>2</td>\n",
       "      <td>2018</td>\n",
       "      <td>4</td>\n",
       "      <td>26</td>\n",
       "    </tr>\n",
       "    <tr>\n",
       "      <th>8</th>\n",
       "      <td>389bc3fa690240e798340f5a15918d5c</td>\n",
       "      <td>2018-02-09</td>\n",
       "      <td>False</td>\n",
       "      <td>True</td>\n",
       "      <td>False</td>\n",
       "      <td>2</td>\n",
       "      <td>2</td>\n",
       "      <td>2018</td>\n",
       "      <td>2</td>\n",
       "      <td>9</td>\n",
       "    </tr>\n",
       "    <tr>\n",
       "      <th>12</th>\n",
       "      <td>2eeac8d8feae4a8cad5a6af0499a211d</td>\n",
       "      <td>2017-11-11</td>\n",
       "      <td>False</td>\n",
       "      <td>True</td>\n",
       "      <td>False</td>\n",
       "      <td>2</td>\n",
       "      <td>2</td>\n",
       "      <td>2017</td>\n",
       "      <td>11</td>\n",
       "      <td>11</td>\n",
       "    </tr>\n",
       "  </tbody>\n",
       "</table>\n",
       "</div>"
      ],
      "text/plain": [
       "                         customer_id became_member_on  female   male  \\\n",
       "1   0610b486422d4921ae7d2bf64640c50b       2017-07-15    True  False   \n",
       "3   78afa995795e4d85b5d9ceeca43f5fef       2017-05-09    True  False   \n",
       "5   e2127556f4f64592b11af22de27a7932       2018-04-26   False   True   \n",
       "8   389bc3fa690240e798340f5a15918d5c       2018-02-09   False   True   \n",
       "12  2eeac8d8feae4a8cad5a6af0499a211d       2017-11-11   False   True   \n",
       "\n",
       "    other_gender age_bins income_bins  member_year  member_month  member_day  \n",
       "1          False        2           3         2017             7          15  \n",
       "3          False        3           3         2017             5           9  \n",
       "5          False        3           2         2018             4          26  \n",
       "8          False        2           2         2018             2           9  \n",
       "12         False        2           2         2017            11          11  "
      ]
     },
     "execution_count": 208,
     "metadata": {},
     "output_type": "execute_result"
    }
   ],
   "source": [
    "# Check new columns\n",
    "profile.head(5)"
   ]
  },
  {
   "cell_type": "code",
   "execution_count": 209,
   "metadata": {},
   "outputs": [
    {
     "data": {
      "image/png": "[encoded data removed]",
      "text/plain": [
       "<Figure size 640x480 with 1 Axes>"
      ]
     },
     "metadata": {},
     "output_type": "display_data"
    }
   ],
   "source": [
    "# Count of users by year of membership\n",
    "membership_by_year = profile['member_year'].value_counts().sort_index()\n",
    "\n",
    "# Number of users joining per year\n",
    "sns.countplot(x='member_year', data=profile, palette='pastel')\n",
    "plt.title('User Membership by Year')\n",
    "plt.xlabel('Year of Membership')\n",
    "plt.ylabel('Number of Users')\n",
    "plt.xticks(rotation=45)\n",
    "plt.show()\n"
   ]
  },
  {
   "cell_type": "code",
   "execution_count": 210,
   "metadata": {},
   "outputs": [
    {
     "data": {
      "image/png": "[encoded data removed]",
      "text/plain": [
       "<Figure size 640x480 with 1 Axes>"
      ]
     },
     "metadata": {},
     "output_type": "display_data"
    }
   ],
   "source": [
    "# Calculate the membership seniority in years\n",
    "profile['membership_seniority'] = 2024 - profile['member_year'] \n",
    "\n",
    "# Check the distribution of membership seniority\n",
    "sns.histplot(profile['membership_seniority'], kde=True, color='skyblue')\n",
    "plt.title('Membership Seniority Distribution')\n",
    "plt.xlabel('Years of Membership')\n",
    "plt.ylabel('Frequency')\n",
    "plt.show()\n"
   ]
  },
  {
   "cell_type": "code",
   "execution_count": 212,
   "metadata": {},
   "outputs": [
    {
     "data": {
      "image/png": "[encoded data removed]",
      "text/plain": [
       "<Figure size 640x480 with 1 Axes>"
      ]
     },
     "metadata": {},
     "output_type": "display_data"
    }
   ],
   "source": [
    "# Group by age category and calculate the average membership seniority\n",
    "average_seniority_by_age = profile.groupby('age_bins')['membership_seniority'].mean()\n",
    "\n",
    "# Plotting the average seniority by age group\n",
    "sns.barplot(x=average_seniority_by_age.index, y=average_seniority_by_age.values, palette='pastel')\n",
    "plt.title('Average Membership Seniority by Age Group')\n",
    "plt.xlabel('Age Group')\n",
    "plt.ylabel('Average Seniority (Years)')\n",
    "plt.xticks\n",
    "plt.show()\n"
   ]
  },
  {
   "cell_type": "markdown",
   "metadata": {},
   "source": [
    "There are no significant differences in seniority regarding age clusters."
   ]
  },
  {
   "cell_type": "markdown",
   "metadata": {},
   "source": [
    "## Portfolio Dataset"
   ]
  },
  {
   "cell_type": "code",
   "execution_count": 213,
   "metadata": {
    "ExecuteTime": {
     "end_time": "2023-06-16T05:21:33.510821Z",
     "start_time": "2023-06-16T05:21:33.399120Z"
    }
   },
   "outputs": [
    {
     "data": {
      "text/html": [
       "<div>\n",
       "<style scoped>\n",
       "    .dataframe tbody tr th:only-of-type {\n",
       "        vertical-align: middle;\n",
       "    }\n",
       "\n",
       "    .dataframe tbody tr th {\n",
       "        vertical-align: top;\n",
       "    }\n",
       "\n",
       "    .dataframe thead th {\n",
       "        text-align: right;\n",
       "    }\n",
       "</style>\n",
       "<table border=\"1\" class=\"dataframe\">\n",
       "  <thead>\n",
       "    <tr style=\"text-align: right;\">\n",
       "      <th></th>\n",
       "      <th>reward</th>\n",
       "      <th>channels</th>\n",
       "      <th>difficulty</th>\n",
       "      <th>duration</th>\n",
       "      <th>offer_type</th>\n",
       "      <th>id</th>\n",
       "    </tr>\n",
       "  </thead>\n",
       "  <tbody>\n",
       "    <tr>\n",
       "      <th>0</th>\n",
       "      <td>10</td>\n",
       "      <td>[email, mobile, social]</td>\n",
       "      <td>10</td>\n",
       "      <td>7</td>\n",
       "      <td>bogo</td>\n",
       "      <td>ae264e3637204a6fb9bb56bc8210ddfd</td>\n",
       "    </tr>\n",
       "    <tr>\n",
       "      <th>1</th>\n",
       "      <td>10</td>\n",
       "      <td>[web, email, mobile, social]</td>\n",
       "      <td>10</td>\n",
       "      <td>5</td>\n",
       "      <td>bogo</td>\n",
       "      <td>4d5c57ea9a6940dd891ad53e9dbe8da0</td>\n",
       "    </tr>\n",
       "    <tr>\n",
       "      <th>2</th>\n",
       "      <td>0</td>\n",
       "      <td>[web, email, mobile]</td>\n",
       "      <td>0</td>\n",
       "      <td>4</td>\n",
       "      <td>informational</td>\n",
       "      <td>3f207df678b143eea3cee63160fa8bed</td>\n",
       "    </tr>\n",
       "    <tr>\n",
       "      <th>3</th>\n",
       "      <td>5</td>\n",
       "      <td>[web, email, mobile]</td>\n",
       "      <td>5</td>\n",
       "      <td>7</td>\n",
       "      <td>bogo</td>\n",
       "      <td>9b98b8c7a33c4b65b9aebfe6a799e6d9</td>\n",
       "    </tr>\n",
       "    <tr>\n",
       "      <th>4</th>\n",
       "      <td>5</td>\n",
       "      <td>[web, email]</td>\n",
       "      <td>20</td>\n",
       "      <td>10</td>\n",
       "      <td>discount</td>\n",
       "      <td>0b1e1539f2cc45b7b9fa7c272da2e1d7</td>\n",
       "    </tr>\n",
       "  </tbody>\n",
       "</table>\n",
       "</div>"
      ],
      "text/plain": [
       "   reward                      channels  difficulty  duration     offer_type  \\\n",
       "0      10       [email, mobile, social]          10         7           bogo   \n",
       "1      10  [web, email, mobile, social]          10         5           bogo   \n",
       "2       0          [web, email, mobile]           0         4  informational   \n",
       "3       5          [web, email, mobile]           5         7           bogo   \n",
       "4       5                  [web, email]          20        10       discount   \n",
       "\n",
       "                                 id  \n",
       "0  ae264e3637204a6fb9bb56bc8210ddfd  \n",
       "1  4d5c57ea9a6940dd891ad53e9dbe8da0  \n",
       "2  3f207df678b143eea3cee63160fa8bed  \n",
       "3  9b98b8c7a33c4b65b9aebfe6a799e6d9  \n",
       "4  0b1e1539f2cc45b7b9fa7c272da2e1d7  "
      ]
     },
     "execution_count": 213,
     "metadata": {},
     "output_type": "execute_result"
    }
   ],
   "source": [
    "# Check dataframe\n",
    "portfolio.head(5)"
   ]
  },
  {
   "cell_type": "code",
   "execution_count": 214,
   "metadata": {
    "ExecuteTime": {
     "end_time": "2023-06-16T05:21:33.510909Z",
     "start_time": "2023-06-16T05:21:33.405677Z"
    }
   },
   "outputs": [],
   "source": [
    "# Create a copy to test some changes\n",
    "portfolio_test = portfolio.copy()"
   ]
  },
  {
   "cell_type": "code",
   "execution_count": 215,
   "metadata": {
    "ExecuteTime": {
     "end_time": "2023-06-16T05:21:33.565222Z",
     "start_time": "2023-06-16T05:21:33.418286Z"
    }
   },
   "outputs": [
    {
     "data": {
      "text/html": [
       "<div>\n",
       "<style scoped>\n",
       "    .dataframe tbody tr th:only-of-type {\n",
       "        vertical-align: middle;\n",
       "    }\n",
       "\n",
       "    .dataframe tbody tr th {\n",
       "        vertical-align: top;\n",
       "    }\n",
       "\n",
       "    .dataframe thead th {\n",
       "        text-align: right;\n",
       "    }\n",
       "</style>\n",
       "<table border=\"1\" class=\"dataframe\">\n",
       "  <thead>\n",
       "    <tr style=\"text-align: right;\">\n",
       "      <th></th>\n",
       "      <th>reward</th>\n",
       "      <th>channels</th>\n",
       "      <th>difficulty</th>\n",
       "      <th>duration</th>\n",
       "      <th>offer_type</th>\n",
       "      <th>id</th>\n",
       "    </tr>\n",
       "  </thead>\n",
       "  <tbody>\n",
       "    <tr>\n",
       "      <th>0</th>\n",
       "      <td>10</td>\n",
       "      <td>[email, mobile, social]</td>\n",
       "      <td>10</td>\n",
       "      <td>7</td>\n",
       "      <td>bogo</td>\n",
       "      <td>ae264e3637204a6fb9bb56bc8210ddfd</td>\n",
       "    </tr>\n",
       "    <tr>\n",
       "      <th>1</th>\n",
       "      <td>10</td>\n",
       "      <td>[web, email, mobile, social]</td>\n",
       "      <td>10</td>\n",
       "      <td>5</td>\n",
       "      <td>bogo</td>\n",
       "      <td>4d5c57ea9a6940dd891ad53e9dbe8da0</td>\n",
       "    </tr>\n",
       "    <tr>\n",
       "      <th>2</th>\n",
       "      <td>0</td>\n",
       "      <td>[web, email, mobile]</td>\n",
       "      <td>0</td>\n",
       "      <td>4</td>\n",
       "      <td>informational</td>\n",
       "      <td>3f207df678b143eea3cee63160fa8bed</td>\n",
       "    </tr>\n",
       "    <tr>\n",
       "      <th>3</th>\n",
       "      <td>5</td>\n",
       "      <td>[web, email, mobile]</td>\n",
       "      <td>5</td>\n",
       "      <td>7</td>\n",
       "      <td>bogo</td>\n",
       "      <td>9b98b8c7a33c4b65b9aebfe6a799e6d9</td>\n",
       "    </tr>\n",
       "    <tr>\n",
       "      <th>4</th>\n",
       "      <td>5</td>\n",
       "      <td>[web, email]</td>\n",
       "      <td>20</td>\n",
       "      <td>10</td>\n",
       "      <td>discount</td>\n",
       "      <td>0b1e1539f2cc45b7b9fa7c272da2e1d7</td>\n",
       "    </tr>\n",
       "  </tbody>\n",
       "</table>\n",
       "</div>"
      ],
      "text/plain": [
       "   reward                      channels  difficulty  duration     offer_type  \\\n",
       "0      10       [email, mobile, social]          10         7           bogo   \n",
       "1      10  [web, email, mobile, social]          10         5           bogo   \n",
       "2       0          [web, email, mobile]           0         4  informational   \n",
       "3       5          [web, email, mobile]           5         7           bogo   \n",
       "4       5                  [web, email]          20        10       discount   \n",
       "\n",
       "                                 id  \n",
       "0  ae264e3637204a6fb9bb56bc8210ddfd  \n",
       "1  4d5c57ea9a6940dd891ad53e9dbe8da0  \n",
       "2  3f207df678b143eea3cee63160fa8bed  \n",
       "3  9b98b8c7a33c4b65b9aebfe6a799e6d9  \n",
       "4  0b1e1539f2cc45b7b9fa7c272da2e1d7  "
      ]
     },
     "execution_count": 215,
     "metadata": {},
     "output_type": "execute_result"
    }
   ],
   "source": [
    "# Check new dataframe\n",
    "portfolio_test.head(5)"
   ]
  },
  {
   "cell_type": "markdown",
   "metadata": {},
   "source": [
    "Expanding the channels column values to create new with those values as there are multiple entries which later helps us to avoid numerical bias"
   ]
  },
  {
   "cell_type": "code",
   "execution_count": 216,
   "metadata": {},
   "outputs": [],
   "source": [
    "# Expanding the 'channels' column into separate columns\n",
    "expanded_channels = portfolio_test['channels'].apply(pd.Series)\n",
    "\n",
    "#Stack the columns to turn lists into a single column\n",
    "stacked_channels = expanded_channels.stack()\n",
    "\n",
    "# Create dummy variables for each unique channel\n",
    "channel_dummies = pd.get_dummies(stacked_channels)\n",
    "\n",
    "# Group by the original index and sum the dummy columns \n",
    "channels_expanded = channel_dummies.groupby(level=0).sum()"
   ]
  },
  {
   "cell_type": "code",
   "execution_count": 217,
   "metadata": {},
   "outputs": [
    {
     "data": {
      "text/html": [
       "<div>\n",
       "<style scoped>\n",
       "    .dataframe tbody tr th:only-of-type {\n",
       "        vertical-align: middle;\n",
       "    }\n",
       "\n",
       "    .dataframe tbody tr th {\n",
       "        vertical-align: top;\n",
       "    }\n",
       "\n",
       "    .dataframe thead th {\n",
       "        text-align: right;\n",
       "    }\n",
       "</style>\n",
       "<table border=\"1\" class=\"dataframe\">\n",
       "  <thead>\n",
       "    <tr style=\"text-align: right;\">\n",
       "      <th></th>\n",
       "      <th>email</th>\n",
       "      <th>mobile</th>\n",
       "      <th>social</th>\n",
       "      <th>web</th>\n",
       "    </tr>\n",
       "  </thead>\n",
       "  <tbody>\n",
       "    <tr>\n",
       "      <th>0</th>\n",
       "      <td>1</td>\n",
       "      <td>1</td>\n",
       "      <td>1</td>\n",
       "      <td>0</td>\n",
       "    </tr>\n",
       "    <tr>\n",
       "      <th>1</th>\n",
       "      <td>1</td>\n",
       "      <td>1</td>\n",
       "      <td>1</td>\n",
       "      <td>1</td>\n",
       "    </tr>\n",
       "    <tr>\n",
       "      <th>2</th>\n",
       "      <td>1</td>\n",
       "      <td>1</td>\n",
       "      <td>0</td>\n",
       "      <td>1</td>\n",
       "    </tr>\n",
       "    <tr>\n",
       "      <th>3</th>\n",
       "      <td>1</td>\n",
       "      <td>1</td>\n",
       "      <td>0</td>\n",
       "      <td>1</td>\n",
       "    </tr>\n",
       "    <tr>\n",
       "      <th>4</th>\n",
       "      <td>1</td>\n",
       "      <td>0</td>\n",
       "      <td>0</td>\n",
       "      <td>1</td>\n",
       "    </tr>\n",
       "  </tbody>\n",
       "</table>\n",
       "</div>"
      ],
      "text/plain": [
       "   email  mobile  social  web\n",
       "0      1       1       1    0\n",
       "1      1       1       1    1\n",
       "2      1       1       0    1\n",
       "3      1       1       0    1\n",
       "4      1       0       0    1"
      ]
     },
     "execution_count": 217,
     "metadata": {},
     "output_type": "execute_result"
    }
   ],
   "source": [
    "# Check DataFrame\n",
    "channels_expanded.head(5)"
   ]
  },
  {
   "cell_type": "code",
   "execution_count": 218,
   "metadata": {
    "ExecuteTime": {
     "end_time": "2023-06-16T05:21:33.728746Z",
     "start_time": "2023-06-16T05:21:33.446121Z"
    }
   },
   "outputs": [
    {
     "data": {
      "text/html": [
       "<div>\n",
       "<style scoped>\n",
       "    .dataframe tbody tr th:only-of-type {\n",
       "        vertical-align: middle;\n",
       "    }\n",
       "\n",
       "    .dataframe tbody tr th {\n",
       "        vertical-align: top;\n",
       "    }\n",
       "\n",
       "    .dataframe thead th {\n",
       "        text-align: right;\n",
       "    }\n",
       "</style>\n",
       "<table border=\"1\" class=\"dataframe\">\n",
       "  <thead>\n",
       "    <tr style=\"text-align: right;\">\n",
       "      <th></th>\n",
       "      <th>reward</th>\n",
       "      <th>channels</th>\n",
       "      <th>difficulty</th>\n",
       "      <th>duration</th>\n",
       "      <th>offer_type</th>\n",
       "      <th>id</th>\n",
       "      <th>email</th>\n",
       "      <th>mobile</th>\n",
       "      <th>social</th>\n",
       "      <th>web</th>\n",
       "    </tr>\n",
       "  </thead>\n",
       "  <tbody>\n",
       "    <tr>\n",
       "      <th>0</th>\n",
       "      <td>10</td>\n",
       "      <td>[email, mobile, social]</td>\n",
       "      <td>10</td>\n",
       "      <td>7</td>\n",
       "      <td>bogo</td>\n",
       "      <td>ae264e3637204a6fb9bb56bc8210ddfd</td>\n",
       "      <td>1</td>\n",
       "      <td>1</td>\n",
       "      <td>1</td>\n",
       "      <td>0</td>\n",
       "    </tr>\n",
       "    <tr>\n",
       "      <th>1</th>\n",
       "      <td>10</td>\n",
       "      <td>[web, email, mobile, social]</td>\n",
       "      <td>10</td>\n",
       "      <td>5</td>\n",
       "      <td>bogo</td>\n",
       "      <td>4d5c57ea9a6940dd891ad53e9dbe8da0</td>\n",
       "      <td>1</td>\n",
       "      <td>1</td>\n",
       "      <td>1</td>\n",
       "      <td>1</td>\n",
       "    </tr>\n",
       "    <tr>\n",
       "      <th>2</th>\n",
       "      <td>0</td>\n",
       "      <td>[web, email, mobile]</td>\n",
       "      <td>0</td>\n",
       "      <td>4</td>\n",
       "      <td>informational</td>\n",
       "      <td>3f207df678b143eea3cee63160fa8bed</td>\n",
       "      <td>1</td>\n",
       "      <td>1</td>\n",
       "      <td>0</td>\n",
       "      <td>1</td>\n",
       "    </tr>\n",
       "    <tr>\n",
       "      <th>3</th>\n",
       "      <td>5</td>\n",
       "      <td>[web, email, mobile]</td>\n",
       "      <td>5</td>\n",
       "      <td>7</td>\n",
       "      <td>bogo</td>\n",
       "      <td>9b98b8c7a33c4b65b9aebfe6a799e6d9</td>\n",
       "      <td>1</td>\n",
       "      <td>1</td>\n",
       "      <td>0</td>\n",
       "      <td>1</td>\n",
       "    </tr>\n",
       "    <tr>\n",
       "      <th>4</th>\n",
       "      <td>5</td>\n",
       "      <td>[web, email]</td>\n",
       "      <td>20</td>\n",
       "      <td>10</td>\n",
       "      <td>discount</td>\n",
       "      <td>0b1e1539f2cc45b7b9fa7c272da2e1d7</td>\n",
       "      <td>1</td>\n",
       "      <td>0</td>\n",
       "      <td>0</td>\n",
       "      <td>1</td>\n",
       "    </tr>\n",
       "  </tbody>\n",
       "</table>\n",
       "</div>"
      ],
      "text/plain": [
       "   reward                      channels  difficulty  duration     offer_type  \\\n",
       "0      10       [email, mobile, social]          10         7           bogo   \n",
       "1      10  [web, email, mobile, social]          10         5           bogo   \n",
       "2       0          [web, email, mobile]           0         4  informational   \n",
       "3       5          [web, email, mobile]           5         7           bogo   \n",
       "4       5                  [web, email]          20        10       discount   \n",
       "\n",
       "                                 id  email  mobile  social  web  \n",
       "0  ae264e3637204a6fb9bb56bc8210ddfd      1       1       1    0  \n",
       "1  4d5c57ea9a6940dd891ad53e9dbe8da0      1       1       1    1  \n",
       "2  3f207df678b143eea3cee63160fa8bed      1       1       0    1  \n",
       "3  9b98b8c7a33c4b65b9aebfe6a799e6d9      1       1       0    1  \n",
       "4  0b1e1539f2cc45b7b9fa7c272da2e1d7      1       0       0    1  "
      ]
     },
     "execution_count": 218,
     "metadata": {},
     "output_type": "execute_result"
    }
   ],
   "source": [
    "# Join the original dataframe with the new columns for each channel\n",
    "portfolio_test = pd.concat([portfolio_test,channels_expanded],axis=1)\n",
    "portfolio_test.head(5)"
   ]
  },
  {
   "cell_type": "code",
   "execution_count": 219,
   "metadata": {
    "ExecuteTime": {
     "end_time": "2023-06-16T05:21:33.729073Z",
     "start_time": "2023-06-16T05:21:33.469032Z"
    }
   },
   "outputs": [],
   "source": [
    "# Dropping the channels column\n",
    "portfolio_test.drop('channels',inplace=True,axis=1)"
   ]
  },
  {
   "cell_type": "code",
   "execution_count": 220,
   "metadata": {
    "ExecuteTime": {
     "end_time": "2023-06-16T05:21:33.729348Z",
     "start_time": "2023-06-16T05:21:33.478358Z"
    }
   },
   "outputs": [
    {
     "data": {
      "text/html": [
       "<div>\n",
       "<style scoped>\n",
       "    .dataframe tbody tr th:only-of-type {\n",
       "        vertical-align: middle;\n",
       "    }\n",
       "\n",
       "    .dataframe tbody tr th {\n",
       "        vertical-align: top;\n",
       "    }\n",
       "\n",
       "    .dataframe thead th {\n",
       "        text-align: right;\n",
       "    }\n",
       "</style>\n",
       "<table border=\"1\" class=\"dataframe\">\n",
       "  <thead>\n",
       "    <tr style=\"text-align: right;\">\n",
       "      <th></th>\n",
       "      <th>reward</th>\n",
       "      <th>difficulty</th>\n",
       "      <th>duration</th>\n",
       "      <th>offer_type</th>\n",
       "      <th>id</th>\n",
       "      <th>email</th>\n",
       "      <th>mobile</th>\n",
       "      <th>social</th>\n",
       "      <th>web</th>\n",
       "    </tr>\n",
       "  </thead>\n",
       "  <tbody>\n",
       "    <tr>\n",
       "      <th>0</th>\n",
       "      <td>10</td>\n",
       "      <td>10</td>\n",
       "      <td>7</td>\n",
       "      <td>bogo</td>\n",
       "      <td>ae264e3637204a6fb9bb56bc8210ddfd</td>\n",
       "      <td>1</td>\n",
       "      <td>1</td>\n",
       "      <td>1</td>\n",
       "      <td>0</td>\n",
       "    </tr>\n",
       "    <tr>\n",
       "      <th>1</th>\n",
       "      <td>10</td>\n",
       "      <td>10</td>\n",
       "      <td>5</td>\n",
       "      <td>bogo</td>\n",
       "      <td>4d5c57ea9a6940dd891ad53e9dbe8da0</td>\n",
       "      <td>1</td>\n",
       "      <td>1</td>\n",
       "      <td>1</td>\n",
       "      <td>1</td>\n",
       "    </tr>\n",
       "    <tr>\n",
       "      <th>2</th>\n",
       "      <td>0</td>\n",
       "      <td>0</td>\n",
       "      <td>4</td>\n",
       "      <td>informational</td>\n",
       "      <td>3f207df678b143eea3cee63160fa8bed</td>\n",
       "      <td>1</td>\n",
       "      <td>1</td>\n",
       "      <td>0</td>\n",
       "      <td>1</td>\n",
       "    </tr>\n",
       "    <tr>\n",
       "      <th>3</th>\n",
       "      <td>5</td>\n",
       "      <td>5</td>\n",
       "      <td>7</td>\n",
       "      <td>bogo</td>\n",
       "      <td>9b98b8c7a33c4b65b9aebfe6a799e6d9</td>\n",
       "      <td>1</td>\n",
       "      <td>1</td>\n",
       "      <td>0</td>\n",
       "      <td>1</td>\n",
       "    </tr>\n",
       "    <tr>\n",
       "      <th>4</th>\n",
       "      <td>5</td>\n",
       "      <td>20</td>\n",
       "      <td>10</td>\n",
       "      <td>discount</td>\n",
       "      <td>0b1e1539f2cc45b7b9fa7c272da2e1d7</td>\n",
       "      <td>1</td>\n",
       "      <td>0</td>\n",
       "      <td>0</td>\n",
       "      <td>1</td>\n",
       "    </tr>\n",
       "  </tbody>\n",
       "</table>\n",
       "</div>"
      ],
      "text/plain": [
       "   reward  difficulty  duration     offer_type  \\\n",
       "0      10          10         7           bogo   \n",
       "1      10          10         5           bogo   \n",
       "2       0           0         4  informational   \n",
       "3       5           5         7           bogo   \n",
       "4       5          20        10       discount   \n",
       "\n",
       "                                 id  email  mobile  social  web  \n",
       "0  ae264e3637204a6fb9bb56bc8210ddfd      1       1       1    0  \n",
       "1  4d5c57ea9a6940dd891ad53e9dbe8da0      1       1       1    1  \n",
       "2  3f207df678b143eea3cee63160fa8bed      1       1       0    1  \n",
       "3  9b98b8c7a33c4b65b9aebfe6a799e6d9      1       1       0    1  \n",
       "4  0b1e1539f2cc45b7b9fa7c272da2e1d7      1       0       0    1  "
      ]
     },
     "execution_count": 220,
     "metadata": {},
     "output_type": "execute_result"
    }
   ],
   "source": [
    "# Check columns\n",
    "portfolio_test.head(5)"
   ]
  },
  {
   "cell_type": "markdown",
   "metadata": {},
   "source": [
    "## Preprocessing offer_type column"
   ]
  },
  {
   "cell_type": "markdown",
   "metadata": {},
   "source": [
    "Creating dummy variables for offer_type"
   ]
  },
  {
   "cell_type": "code",
   "execution_count": 221,
   "metadata": {
    "ExecuteTime": {
     "end_time": "2023-06-16T05:21:33.754261Z",
     "start_time": "2023-06-16T05:21:33.490077Z"
    }
   },
   "outputs": [],
   "source": [
    "#portfolio_test = pd.concat([portfolio_test,pd.get_dummies(portfolio_test['offer_type'])],axis=1)\n",
    "\n",
    "# Creating dummy variables for 'offer_type' and concatenating them to the portfolio_test DataFrame\n",
    "portfolio_test = pd.concat([\n",
    "    portfolio_test,\n",
    "    pd.get_dummies(portfolio_test['offer_type'], drop_first=True) \n",
    "], axis=1)  \n",
    "\n",
    "# Drop the original 'offer_type' column if it's no longer needed\n",
    "portfolio_test.drop(columns=['offer_type'], inplace=True)\n"
   ]
  },
  {
   "cell_type": "code",
   "execution_count": 222,
   "metadata": {
    "ExecuteTime": {
     "end_time": "2023-06-16T05:21:33.781733Z",
     "start_time": "2023-06-16T05:21:33.515281Z"
    }
   },
   "outputs": [
    {
     "data": {
      "text/html": [
       "<div>\n",
       "<style scoped>\n",
       "    .dataframe tbody tr th:only-of-type {\n",
       "        vertical-align: middle;\n",
       "    }\n",
       "\n",
       "    .dataframe tbody tr th {\n",
       "        vertical-align: top;\n",
       "    }\n",
       "\n",
       "    .dataframe thead th {\n",
       "        text-align: right;\n",
       "    }\n",
       "</style>\n",
       "<table border=\"1\" class=\"dataframe\">\n",
       "  <thead>\n",
       "    <tr style=\"text-align: right;\">\n",
       "      <th></th>\n",
       "      <th>id</th>\n",
       "      <th>difficulty</th>\n",
       "      <th>duration</th>\n",
       "      <th>reward</th>\n",
       "      <th>email</th>\n",
       "      <th>mobile</th>\n",
       "      <th>social</th>\n",
       "      <th>web</th>\n",
       "      <th>bogo</th>\n",
       "      <th>discount</th>\n",
       "      <th>informational</th>\n",
       "    </tr>\n",
       "  </thead>\n",
       "  <tbody>\n",
       "    <tr>\n",
       "      <th>0</th>\n",
       "      <td>ae264e3637204a6fb9bb56bc8210ddfd</td>\n",
       "      <td>10</td>\n",
       "      <td>7</td>\n",
       "      <td>10</td>\n",
       "      <td>1</td>\n",
       "      <td>1</td>\n",
       "      <td>1</td>\n",
       "      <td>0</td>\n",
       "      <td>NaN</td>\n",
       "      <td>False</td>\n",
       "      <td>False</td>\n",
       "    </tr>\n",
       "    <tr>\n",
       "      <th>1</th>\n",
       "      <td>4d5c57ea9a6940dd891ad53e9dbe8da0</td>\n",
       "      <td>10</td>\n",
       "      <td>5</td>\n",
       "      <td>10</td>\n",
       "      <td>1</td>\n",
       "      <td>1</td>\n",
       "      <td>1</td>\n",
       "      <td>1</td>\n",
       "      <td>NaN</td>\n",
       "      <td>False</td>\n",
       "      <td>False</td>\n",
       "    </tr>\n",
       "    <tr>\n",
       "      <th>2</th>\n",
       "      <td>3f207df678b143eea3cee63160fa8bed</td>\n",
       "      <td>0</td>\n",
       "      <td>4</td>\n",
       "      <td>0</td>\n",
       "      <td>1</td>\n",
       "      <td>1</td>\n",
       "      <td>0</td>\n",
       "      <td>1</td>\n",
       "      <td>NaN</td>\n",
       "      <td>False</td>\n",
       "      <td>True</td>\n",
       "    </tr>\n",
       "    <tr>\n",
       "      <th>3</th>\n",
       "      <td>9b98b8c7a33c4b65b9aebfe6a799e6d9</td>\n",
       "      <td>5</td>\n",
       "      <td>7</td>\n",
       "      <td>5</td>\n",
       "      <td>1</td>\n",
       "      <td>1</td>\n",
       "      <td>0</td>\n",
       "      <td>1</td>\n",
       "      <td>NaN</td>\n",
       "      <td>False</td>\n",
       "      <td>False</td>\n",
       "    </tr>\n",
       "    <tr>\n",
       "      <th>4</th>\n",
       "      <td>0b1e1539f2cc45b7b9fa7c272da2e1d7</td>\n",
       "      <td>20</td>\n",
       "      <td>10</td>\n",
       "      <td>5</td>\n",
       "      <td>1</td>\n",
       "      <td>0</td>\n",
       "      <td>0</td>\n",
       "      <td>1</td>\n",
       "      <td>NaN</td>\n",
       "      <td>True</td>\n",
       "      <td>False</td>\n",
       "    </tr>\n",
       "  </tbody>\n",
       "</table>\n",
       "</div>"
      ],
      "text/plain": [
       "                                 id  difficulty  duration  reward  email  \\\n",
       "0  ae264e3637204a6fb9bb56bc8210ddfd          10         7      10      1   \n",
       "1  4d5c57ea9a6940dd891ad53e9dbe8da0          10         5      10      1   \n",
       "2  3f207df678b143eea3cee63160fa8bed           0         4       0      1   \n",
       "3  9b98b8c7a33c4b65b9aebfe6a799e6d9           5         7       5      1   \n",
       "4  0b1e1539f2cc45b7b9fa7c272da2e1d7          20        10       5      1   \n",
       "\n",
       "   mobile  social  web  bogo  discount  informational  \n",
       "0       1       1    0   NaN     False          False  \n",
       "1       1       1    1   NaN     False          False  \n",
       "2       1       0    1   NaN     False           True  \n",
       "3       1       0    1   NaN     False          False  \n",
       "4       0       0    1   NaN      True          False  "
      ]
     },
     "execution_count": 222,
     "metadata": {},
     "output_type": "execute_result"
    }
   ],
   "source": [
    "# Re-ordering the columns\n",
    "portfolio_test=portfolio_test.reindex(columns=['id', 'difficulty', 'duration', 'reward', 'email', 'mobile', 'social',\n",
    "                                        'web', 'bogo', 'discount', 'informational'])\n",
    "portfolio_test.head(5)"
   ]
  },
  {
   "cell_type": "code",
   "execution_count": 223,
   "metadata": {
    "ExecuteTime": {
     "end_time": "2023-06-16T05:21:33.781963Z",
     "start_time": "2023-06-16T05:21:33.524801Z"
    }
   },
   "outputs": [],
   "source": [
    "# Rename columns. Preparing to merge dataframes\n",
    "portfolio_test.rename(columns={\"id\":\"offer_id\"},inplace=True)"
   ]
  },
  {
   "cell_type": "code",
   "execution_count": 224,
   "metadata": {
    "ExecuteTime": {
     "end_time": "2023-06-16T05:21:33.782047Z",
     "start_time": "2023-06-16T05:21:33.530180Z"
    }
   },
   "outputs": [],
   "source": [
    "portfolio = portfolio_test.copy()"
   ]
  },
  {
   "cell_type": "markdown",
   "metadata": {},
   "source": [
    "## Transcript dataset\n",
    "We will work on separing the different events."
   ]
  },
  {
   "cell_type": "code",
   "execution_count": 226,
   "metadata": {
    "ExecuteTime": {
     "end_time": "2023-06-16T05:21:33.782526Z",
     "start_time": "2023-06-16T05:21:33.565503Z"
    }
   },
   "outputs": [
    {
     "data": {
      "text/html": [
       "<div>\n",
       "<style scoped>\n",
       "    .dataframe tbody tr th:only-of-type {\n",
       "        vertical-align: middle;\n",
       "    }\n",
       "\n",
       "    .dataframe tbody tr th {\n",
       "        vertical-align: top;\n",
       "    }\n",
       "\n",
       "    .dataframe thead th {\n",
       "        text-align: right;\n",
       "    }\n",
       "</style>\n",
       "<table border=\"1\" class=\"dataframe\">\n",
       "  <thead>\n",
       "    <tr style=\"text-align: right;\">\n",
       "      <th></th>\n",
       "      <th>customer_id</th>\n",
       "      <th>event</th>\n",
       "      <th>value</th>\n",
       "      <th>time</th>\n",
       "      <th>offer_id</th>\n",
       "      <th>amount</th>\n",
       "    </tr>\n",
       "  </thead>\n",
       "  <tbody>\n",
       "    <tr>\n",
       "      <th>0</th>\n",
       "      <td>78afa995795e4d85b5d9ceeca43f5fef</td>\n",
       "      <td>offer received</td>\n",
       "      <td>{'offer id': '9b98b8c7a33c4b65b9aebfe6a799e6d9'}</td>\n",
       "      <td>0</td>\n",
       "      <td>9b98b8c7a33c4b65b9aebfe6a799e6d9</td>\n",
       "      <td>NaN</td>\n",
       "    </tr>\n",
       "    <tr>\n",
       "      <th>1</th>\n",
       "      <td>a03223e636434f42ac4c3df47e8bac43</td>\n",
       "      <td>offer received</td>\n",
       "      <td>{'offer id': '0b1e1539f2cc45b7b9fa7c272da2e1d7'}</td>\n",
       "      <td>0</td>\n",
       "      <td>0b1e1539f2cc45b7b9fa7c272da2e1d7</td>\n",
       "      <td>NaN</td>\n",
       "    </tr>\n",
       "    <tr>\n",
       "      <th>2</th>\n",
       "      <td>e2127556f4f64592b11af22de27a7932</td>\n",
       "      <td>offer received</td>\n",
       "      <td>{'offer id': '2906b810c7d4411798c6938adc9daaa5'}</td>\n",
       "      <td>0</td>\n",
       "      <td>2906b810c7d4411798c6938adc9daaa5</td>\n",
       "      <td>NaN</td>\n",
       "    </tr>\n",
       "    <tr>\n",
       "      <th>3</th>\n",
       "      <td>8ec6ce2a7e7949b1bf142def7d0e0586</td>\n",
       "      <td>offer received</td>\n",
       "      <td>{'offer id': 'fafdcd668e3743c1bb461111dcafc2a4'}</td>\n",
       "      <td>0</td>\n",
       "      <td>fafdcd668e3743c1bb461111dcafc2a4</td>\n",
       "      <td>NaN</td>\n",
       "    </tr>\n",
       "    <tr>\n",
       "      <th>4</th>\n",
       "      <td>68617ca6246f4fbc85e91a2a49552598</td>\n",
       "      <td>offer received</td>\n",
       "      <td>{'offer id': '4d5c57ea9a6940dd891ad53e9dbe8da0'}</td>\n",
       "      <td>0</td>\n",
       "      <td>4d5c57ea9a6940dd891ad53e9dbe8da0</td>\n",
       "      <td>NaN</td>\n",
       "    </tr>\n",
       "  </tbody>\n",
       "</table>\n",
       "</div>"
      ],
      "text/plain": [
       "                        customer_id           event  \\\n",
       "0  78afa995795e4d85b5d9ceeca43f5fef  offer received   \n",
       "1  a03223e636434f42ac4c3df47e8bac43  offer received   \n",
       "2  e2127556f4f64592b11af22de27a7932  offer received   \n",
       "3  8ec6ce2a7e7949b1bf142def7d0e0586  offer received   \n",
       "4  68617ca6246f4fbc85e91a2a49552598  offer received   \n",
       "\n",
       "                                              value  time  \\\n",
       "0  {'offer id': '9b98b8c7a33c4b65b9aebfe6a799e6d9'}     0   \n",
       "1  {'offer id': '0b1e1539f2cc45b7b9fa7c272da2e1d7'}     0   \n",
       "2  {'offer id': '2906b810c7d4411798c6938adc9daaa5'}     0   \n",
       "3  {'offer id': 'fafdcd668e3743c1bb461111dcafc2a4'}     0   \n",
       "4  {'offer id': '4d5c57ea9a6940dd891ad53e9dbe8da0'}     0   \n",
       "\n",
       "                           offer_id  amount  \n",
       "0  9b98b8c7a33c4b65b9aebfe6a799e6d9     NaN  \n",
       "1  0b1e1539f2cc45b7b9fa7c272da2e1d7     NaN  \n",
       "2  2906b810c7d4411798c6938adc9daaa5     NaN  \n",
       "3  fafdcd668e3743c1bb461111dcafc2a4     NaN  \n",
       "4  4d5c57ea9a6940dd891ad53e9dbe8da0     NaN  "
      ]
     },
     "execution_count": 226,
     "metadata": {},
     "output_type": "execute_result"
    }
   ],
   "source": [
    "transcript.head(5)"
   ]
  },
  {
   "cell_type": "code",
   "execution_count": 227,
   "metadata": {
    "ExecuteTime": {
     "end_time": "2023-06-16T05:21:33.849257Z",
     "start_time": "2023-06-16T05:21:33.569937Z"
    }
   },
   "outputs": [],
   "source": [
    "# Dropping the value column since we have already expanded in an EDA section\n",
    "transcript.drop('value',axis=1,inplace=True)"
   ]
  },
  {
   "cell_type": "markdown",
   "metadata": {},
   "source": [
    "We are filtering out transaction events because they don’t help us understand how customers interact with offers. We also remove 'offer received' events because we’re mainly interested in seeing if customers viewed or completed the offers."
   ]
  },
  {
   "cell_type": "code",
   "execution_count": 228,
   "metadata": {
    "ExecuteTime": {
     "end_time": "2023-06-16T05:21:33.877144Z",
     "start_time": "2023-06-16T05:21:33.626929Z"
    }
   },
   "outputs": [
    {
     "data": {
      "text/plain": [
       "customer_id     object\n",
       "event           object\n",
       "time             int64\n",
       "offer_id        object\n",
       "amount         float64\n",
       "dtype: object"
      ]
     },
     "execution_count": 228,
     "metadata": {},
     "output_type": "execute_result"
    }
   ],
   "source": [
    "# Check data type in each column\n",
    "transcript.dtypes"
   ]
  },
  {
   "cell_type": "code",
   "execution_count": 229,
   "metadata": {
    "ExecuteTime": {
     "end_time": "2023-06-16T05:21:33.899455Z",
     "start_time": "2023-06-16T05:21:33.633768Z"
    }
   },
   "outputs": [
    {
     "data": {
      "text/plain": [
       "array([   nan,   0.83,  34.56, ..., 685.07, 405.04, 476.33])"
      ]
     },
     "execution_count": 229,
     "metadata": {},
     "output_type": "execute_result"
    }
   ],
   "source": [
    "# Check unique values in amount column\n",
    "transcript['amount'].unique()"
   ]
  },
  {
   "cell_type": "code",
   "execution_count": 230,
   "metadata": {
    "ExecuteTime": {
     "end_time": "2023-06-16T05:21:34.129506Z",
     "start_time": "2023-06-16T05:21:33.688655Z"
    }
   },
   "outputs": [],
   "source": [
    "# Filter transactions and offers recieved\n",
    "transcript = transcript[transcript['event'] != 'transaction']\n",
    "transcript = transcript[transcript['event'] != 'offer received']"
   ]
  },
  {
   "cell_type": "code",
   "execution_count": 232,
   "metadata": {},
   "outputs": [
    {
     "data": {
      "text/html": [
       "<div>\n",
       "<style scoped>\n",
       "    .dataframe tbody tr th:only-of-type {\n",
       "        vertical-align: middle;\n",
       "    }\n",
       "\n",
       "    .dataframe tbody tr th {\n",
       "        vertical-align: top;\n",
       "    }\n",
       "\n",
       "    .dataframe thead th {\n",
       "        text-align: right;\n",
       "    }\n",
       "</style>\n",
       "<table border=\"1\" class=\"dataframe\">\n",
       "  <thead>\n",
       "    <tr style=\"text-align: right;\">\n",
       "      <th></th>\n",
       "      <th>customer_id</th>\n",
       "      <th>became_member_on</th>\n",
       "      <th>female</th>\n",
       "      <th>male</th>\n",
       "      <th>other_gender</th>\n",
       "      <th>age_bins</th>\n",
       "      <th>income_bins</th>\n",
       "      <th>member_year</th>\n",
       "      <th>member_month</th>\n",
       "      <th>member_day</th>\n",
       "      <th>membership_seniority</th>\n",
       "    </tr>\n",
       "  </thead>\n",
       "  <tbody>\n",
       "    <tr>\n",
       "      <th>1</th>\n",
       "      <td>0610b486422d4921ae7d2bf64640c50b</td>\n",
       "      <td>2017-07-15</td>\n",
       "      <td>True</td>\n",
       "      <td>False</td>\n",
       "      <td>False</td>\n",
       "      <td>2</td>\n",
       "      <td>3</td>\n",
       "      <td>2017</td>\n",
       "      <td>7</td>\n",
       "      <td>15</td>\n",
       "      <td>7</td>\n",
       "    </tr>\n",
       "    <tr>\n",
       "      <th>3</th>\n",
       "      <td>78afa995795e4d85b5d9ceeca43f5fef</td>\n",
       "      <td>2017-05-09</td>\n",
       "      <td>True</td>\n",
       "      <td>False</td>\n",
       "      <td>False</td>\n",
       "      <td>3</td>\n",
       "      <td>3</td>\n",
       "      <td>2017</td>\n",
       "      <td>5</td>\n",
       "      <td>9</td>\n",
       "      <td>7</td>\n",
       "    </tr>\n",
       "    <tr>\n",
       "      <th>5</th>\n",
       "      <td>e2127556f4f64592b11af22de27a7932</td>\n",
       "      <td>2018-04-26</td>\n",
       "      <td>False</td>\n",
       "      <td>True</td>\n",
       "      <td>False</td>\n",
       "      <td>3</td>\n",
       "      <td>2</td>\n",
       "      <td>2018</td>\n",
       "      <td>4</td>\n",
       "      <td>26</td>\n",
       "      <td>6</td>\n",
       "    </tr>\n",
       "    <tr>\n",
       "      <th>8</th>\n",
       "      <td>389bc3fa690240e798340f5a15918d5c</td>\n",
       "      <td>2018-02-09</td>\n",
       "      <td>False</td>\n",
       "      <td>True</td>\n",
       "      <td>False</td>\n",
       "      <td>2</td>\n",
       "      <td>2</td>\n",
       "      <td>2018</td>\n",
       "      <td>2</td>\n",
       "      <td>9</td>\n",
       "      <td>6</td>\n",
       "    </tr>\n",
       "    <tr>\n",
       "      <th>12</th>\n",
       "      <td>2eeac8d8feae4a8cad5a6af0499a211d</td>\n",
       "      <td>2017-11-11</td>\n",
       "      <td>False</td>\n",
       "      <td>True</td>\n",
       "      <td>False</td>\n",
       "      <td>2</td>\n",
       "      <td>2</td>\n",
       "      <td>2017</td>\n",
       "      <td>11</td>\n",
       "      <td>11</td>\n",
       "      <td>7</td>\n",
       "    </tr>\n",
       "  </tbody>\n",
       "</table>\n",
       "</div>"
      ],
      "text/plain": [
       "                         customer_id became_member_on  female   male  \\\n",
       "1   0610b486422d4921ae7d2bf64640c50b       2017-07-15    True  False   \n",
       "3   78afa995795e4d85b5d9ceeca43f5fef       2017-05-09    True  False   \n",
       "5   e2127556f4f64592b11af22de27a7932       2018-04-26   False   True   \n",
       "8   389bc3fa690240e798340f5a15918d5c       2018-02-09   False   True   \n",
       "12  2eeac8d8feae4a8cad5a6af0499a211d       2017-11-11   False   True   \n",
       "\n",
       "    other_gender age_bins income_bins  member_year  member_month  member_day  \\\n",
       "1          False        2           3         2017             7          15   \n",
       "3          False        3           3         2017             5           9   \n",
       "5          False        3           2         2018             4          26   \n",
       "8          False        2           2         2018             2           9   \n",
       "12         False        2           2         2017            11          11   \n",
       "\n",
       "    membership_seniority  \n",
       "1                      7  \n",
       "3                      7  \n",
       "5                      6  \n",
       "8                      6  \n",
       "12                     7  "
      ]
     },
     "execution_count": 232,
     "metadata": {},
     "output_type": "execute_result"
    }
   ],
   "source": [
    "# Check dataframe \n",
    "profile.head(5)"
   ]
  },
  {
   "cell_type": "code",
   "execution_count": 235,
   "metadata": {
    "scrolled": true
   },
   "outputs": [
    {
     "data": {
      "text/plain": [
       "customer_id                     object\n",
       "became_member_on        datetime64[ns]\n",
       "female                            bool\n",
       "male                              bool\n",
       "other_gender                      bool\n",
       "age_bins                      category\n",
       "income_bins                   category\n",
       "member_year                      int32\n",
       "member_month                     int32\n",
       "member_day                       int32\n",
       "membership_seniority             int32\n",
       "dtype: object"
      ]
     },
     "execution_count": 235,
     "metadata": {},
     "output_type": "execute_result"
    }
   ],
   "source": [
    "# Check data type\n",
    "profile.dtypes"
   ]
  },
  {
   "cell_type": "code",
   "execution_count": 237,
   "metadata": {},
   "outputs": [],
   "source": [
    "# Columns that can be converted to integer\n",
    "profile_columns_to_convert = ['male', 'female', 'other_gender']\n",
    "portfolio_columns_to_convert = ['email', 'mobile', 'social', 'web', 'bogo', 'discount']\n"
   ]
  },
  {
   "cell_type": "code",
   "execution_count": 238,
   "metadata": {},
   "outputs": [],
   "source": [
    "# Fill NaN values with 0 for these columns in both dataframes\n",
    "profile[profile_columns_to_convert] = profile[profile_columns_to_convert].fillna(0).astype(\"int64\")\n",
    "portfolio[portfolio_columns_to_convert] = portfolio[portfolio_columns_to_convert].fillna(0).astype(\"int64\")"
   ]
  },
  {
   "cell_type": "code",
   "execution_count": 240,
   "metadata": {},
   "outputs": [],
   "source": [
    "# Drop rows with NaN values in the specified columns\n",
    "profile = profile.dropna(subset=profile_columns_to_convert)\n",
    "portfolio = portfolio.dropna(subset=portfolio_columns_to_convert)\n",
    "\n",
    "# Then convert to int64\n",
    "profile[profile_columns_to_convert] = profile[profile_columns_to_convert].astype(\"int64\")\n",
    "portfolio[portfolio_columns_to_convert] = portfolio[portfolio_columns_to_convert].astype(\"int64\")\n"
   ]
  },
  {
   "cell_type": "markdown",
   "metadata": {},
   "source": [
    "## Merging all datasets\n"
   ]
  },
  {
   "cell_type": "code",
   "execution_count": 242,
   "metadata": {
    "ExecuteTime": {
     "end_time": "2023-06-16T05:21:34.433316Z",
     "start_time": "2023-06-16T05:21:33.877338Z"
    }
   },
   "outputs": [],
   "source": [
    "# Merging 'transcript' dataset with 'portfolio' on 'offer_id'\n",
    "df_h = transcript.merge(portfolio,how='left',on='offer_id')"
   ]
  },
  {
   "cell_type": "code",
   "execution_count": 243,
   "metadata": {
    "ExecuteTime": {
     "end_time": "2023-06-16T05:21:34.478856Z",
     "start_time": "2023-06-16T05:21:33.945558Z"
    }
   },
   "outputs": [],
   "source": [
    "# Joining 'df' dataset with 'profile' on 'customer_id'\n",
    "df = df_h.merge(profile, on = 'customer_id')"
   ]
  },
  {
   "cell_type": "code",
   "execution_count": 244,
   "metadata": {
    "ExecuteTime": {
     "end_time": "2023-06-16T05:21:34.479111Z",
     "start_time": "2023-06-16T05:21:34.054213Z"
    }
   },
   "outputs": [],
   "source": [
    "# New column with binary values that corresponds with the values in event column\n",
    "df['event_result'] = (df['event'] == 'offer completed').astype(int)\n",
    "df['event_result'] = df['event_result'].fillna(0)"
   ]
  },
  {
   "cell_type": "code",
   "execution_count": 245,
   "metadata": {
    "ExecuteTime": {
     "end_time": "2023-06-16T05:21:34.566831Z",
     "start_time": "2023-06-16T05:21:34.074209Z"
    }
   },
   "outputs": [
    {
     "data": {
      "text/html": [
       "<div>\n",
       "<style scoped>\n",
       "    .dataframe tbody tr th:only-of-type {\n",
       "        vertical-align: middle;\n",
       "    }\n",
       "\n",
       "    .dataframe tbody tr th {\n",
       "        vertical-align: top;\n",
       "    }\n",
       "\n",
       "    .dataframe thead th {\n",
       "        text-align: right;\n",
       "    }\n",
       "</style>\n",
       "<table border=\"1\" class=\"dataframe\">\n",
       "  <thead>\n",
       "    <tr style=\"text-align: right;\">\n",
       "      <th></th>\n",
       "      <th>customer_id</th>\n",
       "      <th>event</th>\n",
       "      <th>time</th>\n",
       "      <th>offer_id</th>\n",
       "      <th>amount</th>\n",
       "      <th>difficulty</th>\n",
       "      <th>duration</th>\n",
       "      <th>reward</th>\n",
       "      <th>email</th>\n",
       "      <th>mobile</th>\n",
       "      <th>...</th>\n",
       "      <th>female</th>\n",
       "      <th>male</th>\n",
       "      <th>other_gender</th>\n",
       "      <th>age_bins</th>\n",
       "      <th>income_bins</th>\n",
       "      <th>member_year</th>\n",
       "      <th>member_month</th>\n",
       "      <th>member_day</th>\n",
       "      <th>membership_seniority</th>\n",
       "      <th>event_result</th>\n",
       "    </tr>\n",
       "  </thead>\n",
       "  <tbody>\n",
       "    <tr>\n",
       "      <th>0</th>\n",
       "      <td>389bc3fa690240e798340f5a15918d5c</td>\n",
       "      <td>offer viewed</td>\n",
       "      <td>0</td>\n",
       "      <td>f19421c1d4aa40978ebb69ca19b0e20d</td>\n",
       "      <td>NaN</td>\n",
       "      <td>5</td>\n",
       "      <td>5</td>\n",
       "      <td>5</td>\n",
       "      <td>1</td>\n",
       "      <td>1</td>\n",
       "      <td>...</td>\n",
       "      <td>0</td>\n",
       "      <td>1</td>\n",
       "      <td>0</td>\n",
       "      <td>2</td>\n",
       "      <td>2</td>\n",
       "      <td>2018</td>\n",
       "      <td>2</td>\n",
       "      <td>9</td>\n",
       "      <td>6</td>\n",
       "      <td>0</td>\n",
       "    </tr>\n",
       "    <tr>\n",
       "      <th>1</th>\n",
       "      <td>389bc3fa690240e798340f5a15918d5c</td>\n",
       "      <td>offer completed</td>\n",
       "      <td>60</td>\n",
       "      <td>f19421c1d4aa40978ebb69ca19b0e20d</td>\n",
       "      <td>NaN</td>\n",
       "      <td>5</td>\n",
       "      <td>5</td>\n",
       "      <td>5</td>\n",
       "      <td>1</td>\n",
       "      <td>1</td>\n",
       "      <td>...</td>\n",
       "      <td>0</td>\n",
       "      <td>1</td>\n",
       "      <td>0</td>\n",
       "      <td>2</td>\n",
       "      <td>2</td>\n",
       "      <td>2018</td>\n",
       "      <td>2</td>\n",
       "      <td>9</td>\n",
       "      <td>6</td>\n",
       "      <td>1</td>\n",
       "    </tr>\n",
       "    <tr>\n",
       "      <th>2</th>\n",
       "      <td>389bc3fa690240e798340f5a15918d5c</td>\n",
       "      <td>offer viewed</td>\n",
       "      <td>192</td>\n",
       "      <td>9b98b8c7a33c4b65b9aebfe6a799e6d9</td>\n",
       "      <td>NaN</td>\n",
       "      <td>5</td>\n",
       "      <td>7</td>\n",
       "      <td>5</td>\n",
       "      <td>1</td>\n",
       "      <td>1</td>\n",
       "      <td>...</td>\n",
       "      <td>0</td>\n",
       "      <td>1</td>\n",
       "      <td>0</td>\n",
       "      <td>2</td>\n",
       "      <td>2</td>\n",
       "      <td>2018</td>\n",
       "      <td>2</td>\n",
       "      <td>9</td>\n",
       "      <td>6</td>\n",
       "      <td>0</td>\n",
       "    </tr>\n",
       "    <tr>\n",
       "      <th>3</th>\n",
       "      <td>389bc3fa690240e798340f5a15918d5c</td>\n",
       "      <td>offer viewed</td>\n",
       "      <td>354</td>\n",
       "      <td>2906b810c7d4411798c6938adc9daaa5</td>\n",
       "      <td>NaN</td>\n",
       "      <td>10</td>\n",
       "      <td>7</td>\n",
       "      <td>2</td>\n",
       "      <td>1</td>\n",
       "      <td>1</td>\n",
       "      <td>...</td>\n",
       "      <td>0</td>\n",
       "      <td>1</td>\n",
       "      <td>0</td>\n",
       "      <td>2</td>\n",
       "      <td>2</td>\n",
       "      <td>2018</td>\n",
       "      <td>2</td>\n",
       "      <td>9</td>\n",
       "      <td>6</td>\n",
       "      <td>0</td>\n",
       "    </tr>\n",
       "    <tr>\n",
       "      <th>4</th>\n",
       "      <td>389bc3fa690240e798340f5a15918d5c</td>\n",
       "      <td>offer viewed</td>\n",
       "      <td>438</td>\n",
       "      <td>9b98b8c7a33c4b65b9aebfe6a799e6d9</td>\n",
       "      <td>NaN</td>\n",
       "      <td>5</td>\n",
       "      <td>7</td>\n",
       "      <td>5</td>\n",
       "      <td>1</td>\n",
       "      <td>1</td>\n",
       "      <td>...</td>\n",
       "      <td>0</td>\n",
       "      <td>1</td>\n",
       "      <td>0</td>\n",
       "      <td>2</td>\n",
       "      <td>2</td>\n",
       "      <td>2018</td>\n",
       "      <td>2</td>\n",
       "      <td>9</td>\n",
       "      <td>6</td>\n",
       "      <td>0</td>\n",
       "    </tr>\n",
       "  </tbody>\n",
       "</table>\n",
       "<p>5 rows × 26 columns</p>\n",
       "</div>"
      ],
      "text/plain": [
       "                        customer_id            event  time  \\\n",
       "0  389bc3fa690240e798340f5a15918d5c     offer viewed     0   \n",
       "1  389bc3fa690240e798340f5a15918d5c  offer completed    60   \n",
       "2  389bc3fa690240e798340f5a15918d5c     offer viewed   192   \n",
       "3  389bc3fa690240e798340f5a15918d5c     offer viewed   354   \n",
       "4  389bc3fa690240e798340f5a15918d5c     offer viewed   438   \n",
       "\n",
       "                           offer_id  amount  difficulty  duration  reward  \\\n",
       "0  f19421c1d4aa40978ebb69ca19b0e20d     NaN           5         5       5   \n",
       "1  f19421c1d4aa40978ebb69ca19b0e20d     NaN           5         5       5   \n",
       "2  9b98b8c7a33c4b65b9aebfe6a799e6d9     NaN           5         7       5   \n",
       "3  2906b810c7d4411798c6938adc9daaa5     NaN          10         7       2   \n",
       "4  9b98b8c7a33c4b65b9aebfe6a799e6d9     NaN           5         7       5   \n",
       "\n",
       "   email  mobile  ...  female  male  other_gender  age_bins  income_bins  \\\n",
       "0      1       1  ...       0     1             0         2            2   \n",
       "1      1       1  ...       0     1             0         2            2   \n",
       "2      1       1  ...       0     1             0         2            2   \n",
       "3      1       1  ...       0     1             0         2            2   \n",
       "4      1       1  ...       0     1             0         2            2   \n",
       "\n",
       "  member_year  member_month  member_day  membership_seniority event_result  \n",
       "0        2018             2           9                     6            0  \n",
       "1        2018             2           9                     6            1  \n",
       "2        2018             2           9                     6            0  \n",
       "3        2018             2           9                     6            0  \n",
       "4        2018             2           9                     6            0  \n",
       "\n",
       "[5 rows x 26 columns]"
      ]
     },
     "execution_count": 245,
     "metadata": {},
     "output_type": "execute_result"
    }
   ],
   "source": [
    "df.head(5)"
   ]
  },
  {
   "cell_type": "markdown",
   "metadata": {},
   "source": [
    "# Data Modeling\n",
    "### Aim\n",
    "We want to predict whether a customer will complete an offer (like buying a product or using a discount) when they receive a promotion. The question is whether the customer will take action (complete the offer) or not (ignore the offer). This is a classification problem because we're trying to categorize the outcome into one of two possible categories: \"Offer Completed\" or \"Offer Not Completed\".\n",
    "\n",
    "### Algorithms we'll use:\n",
    "\n",
    "1. Random Forest:\n",
    "This method builds multiple models (called decision trees) and combines their predictions. It’s like asking a group of decision-makers and taking the majority opinion. It's good for making accurate predictions even when data is complex.\n",
    "\n",
    "2. Naive Bayes:\n",
    "This algorithm is based on probability. It looks at the features (like age, income, etc.) of a customer and calculates how the probability that the customer will complete the offer. It assumes that each feature is independent of the others (which is why it's called \"naive\").\n",
    "\n",
    "3. Logistic Regression:\n",
    "Classification method. It looks at the relationship between the features and the outcome, using an equation to predict the probability of a customer completing the offer.\n",
    "\n",
    "4. Decision Tree:\n",
    "A decision tree is like a flowchart. It asks questions about the features (like \"Is the customer over 30 years old?\") and makes decisions based on answers. The tree keeps branching out until it classifies the customer as either completing or not completing the offer.\n",
    "\n",
    "5. Support Vector Machines (SVM):\n",
    "This algorithm tries to find the \"best line\" (or hyperplane) that divides the data into two classes (completed offer vs. not completed offer). It tries to maximize the margin between the classes. It's powerful for handling complex data, especially when the classes are not clearly separable.\n",
    "\n",
    "6. K-Nearest Neighbors (KNN):\n",
    "This algorithm looks at the closest data points (neighbors) to a customer and classifies the customer based on what most of the neighbors did. For example, if most nearby customers completed the offer, the new customer is likely to complete it too.\n",
    "\n",
    "### Steps We Will Take\n",
    "Modeling:\n",
    "First, we'll try all of these algorithms and see which one performs the best (example, gives us the highest accuracy at predicting whether a customer will complete an offer). This gives us a starting point.\n",
    "\n",
    "Improving the Best Model:\n",
    "Once we identify the best model (the one with the highest accuracy), we’ll improve it further. One way to do this is through hyperparameter tuning, which means adjusting the settings of the model to make it more accurate.\n",
    "\n",
    "Each algorithm has its own strengths and is good for different types of data or problems, so we’ll test them all to see which works best for our specific case."
   ]
  },
  {
   "cell_type": "code",
   "execution_count": 246,
   "metadata": {
    "ExecuteTime": {
     "end_time": "2023-06-16T07:19:48.470323Z",
     "start_time": "2023-06-16T07:19:48.430150Z"
    }
   },
   "outputs": [],
   "source": [
    "# Features: Select the columns that will be used as input features\n",
    "X = df[['difficulty','reward','email','mobile','social','web','bogo','discount','informational','female','male','other_gender','age_bins','income_bins' ,'member_year','member_month']]\n",
    "\n",
    "# Labels: Defining the target variable that we want to predict. \n",
    "y = df['event_result'].ravel()\n",
    "\n",
    "# Split the data into training and testing sets. 30% for testing and 70% for training\n",
    "X_train,X_test,y_train,y_test = train_test_split(X,y, test_size = 0.3, random_state=42)"
   ]
  },
  {
   "cell_type": "code",
   "execution_count": 247,
   "metadata": {
    "ExecuteTime": {
     "end_time": "2023-06-16T07:20:02.371607Z",
     "start_time": "2023-06-16T07:20:02.319750Z"
    }
   },
   "outputs": [],
   "source": [
    "# Minmax scaling of the data\n",
    "scaler_x= MinMaxScaler()\n",
    "scaler_y = MinMaxScaler()\n",
    "\n",
    "# Apply MinMax scaling to the training data\n",
    "X_train_min_max = scaler_x.fit_transform(X_train)\n",
    "y_train_min_max = scaler_y.fit_transform(y_train.reshape(-1,1))\n",
    "\n",
    "# Apply MinMax scaling to the test data\n",
    "X_test_min_max = scaler_x.transform(X_test)\n",
    "y_test_min_max = scaler_y.transform(y_test.reshape(-1,1))"
   ]
  },
  {
   "cell_type": "markdown",
   "metadata": {},
   "source": [
    "# Baseline Modeling\n",
    "\n",
    "The goal of this section is to evaluate the performance of different machine learning models in predicting customer responses to offers. \n",
    "We will compare the mentioned machine learning models on the dataset to determine which one performs the best, in terms of accuracy. \n",
    "\n",
    "- Accuracy measures how often the model makes correct predictions (percentage of correct predictions out of all predictions). It is computed as:\n",
    "            \n",
    "               Accuracy = Correct predictions / Total predictions\n",
    "\n",
    "Afterwards, we will choose the best scoring models and will train each of them on the scaled training data. Then we'll test them on the scaled test data, and then calculate and store their accuracy scores to compare which model performs best."
   ]
  },
  {
   "cell_type": "code",
   "execution_count": 248,
   "metadata": {},
   "outputs": [
    {
     "data": {
      "text/plain": [
       "{'Random Forest': 57.358658674874455,\n",
       " 'Logistic Regression': 63.42945083427831,\n",
       " 'SVM': 63.55499757006318,\n",
       " 'Naive Bayes': 50.52243641665317,\n",
       " 'Decision Tree': 57.28981046492792,\n",
       " 'KNN': 57.64620119876883}"
      ]
     },
     "execution_count": 248,
     "metadata": {},
     "output_type": "execute_result"
    }
   ],
   "source": [
    "# Define the models\n",
    "all_models = {\n",
    "    \"Random Forest\": RandomForestClassifier(),\n",
    "    \"Logistic Regression\": LogisticRegression(),\n",
    "    \"SVM\": SVC(),\n",
    "    \"Naive Bayes\": GaussianNB(),\n",
    "    \"Decision Tree\": DecisionTreeClassifier(),\n",
    "    \"KNN\": KNeighborsClassifier()\n",
    "}\n",
    "\n",
    "# Dictionary to store the scores of each model\n",
    "all_scores = dict()\n",
    "\n",
    "for key, value in all_models.items():\n",
    "    # Fit the model\n",
    "    value.fit(X_train_min_max, y_train)\n",
    "    \n",
    "    # Calculate accuracy and store the result\n",
    "    score = (value.score(X_test_min_max, y_test)) * 100\n",
    "    all_scores[key] = score\n",
    "\n",
    "# Return all the model accuracy scores\n",
    "all_scores\n"
   ]
  },
  {
   "cell_type": "code",
   "execution_count": 249,
   "metadata": {
    "scrolled": true
   },
   "outputs": [
    {
     "data": {
      "image/png": "[encoded data removed]",
      "text/plain": [
       "<Figure size 640x480 with 1 Axes>"
      ]
     },
     "metadata": {},
     "output_type": "display_data"
    }
   ],
   "source": [
    "# Plot scores for each model\n",
    "all_scores_df = pd.DataFrame.from_dict(all_scores, orient='index', columns=['Score'])\n",
    "all_scores_df.index.name = 'Model'\n",
    "pastel_colors = sns.color_palette(\"pastel\", len(all_scores_df))\n",
    "bars = plt.bar(all_scores_df.index, all_scores_df['Score'], color=pastel_colors)\n",
    "\n",
    "# Labels\n",
    "plt.xlabel('Models', fontsize=12)\n",
    "plt.ylabel('Score', fontsize=12)\n",
    "plt.xticks(rotation=45, ha='right')\n",
    "\n",
    "# Title\n",
    "plt.title('Model Scores', fontsize=14)\n",
    "\n",
    "# Label with score value for each model\n",
    "for bar in bars:\n",
    "    yval = bar.get_height()\n",
    "    plt.text(bar.get_x() + bar.get_width() / 2, yval + 0.5, f'{yval:.2f}%', ha='center', va='bottom', fontsize=10)\n",
    "\n",
    "# Gridlines y axis\n",
    "plt.grid(axis='y', linestyle='--', alpha=0.7)\n",
    "\n",
    "# Print plot\n",
    "plt.tight_layout()\n",
    "plt.show()\n"
   ]
  },
  {
   "cell_type": "markdown",
   "metadata": {},
   "source": [
    "Based on the model scores, the highest-performing model for predicting customer responses to promotions is the Support Vector Machine (SVM), with an accuracy of approximately 63.55%. \n",
    "Logistic Regression follows with a score of 63.43%, while K-Nearest Neighbors (KNN) achieves 57.65%. \n",
    "Random Forest, Decision Tree, and Naive Bayes have relatively lower performance, with scores ranging between 50.52% and 57.30%. \n",
    "\n",
    "These results suggest that SVM and Logistic Regression are the most effective models for this task, while the other models may need further refinement or tuning."
   ]
  },
  {
   "cell_type": "markdown",
   "metadata": {},
   "source": [
    "**Code note**\n",
    "In the development of the practice I tried an SVM model, which lasted more than 2 hours to perform (60 fittings). \n",
    "In order to make an quicker run of the notebook I shortened the test.\n",
    "3 fold validation instead of 5.\n",
    "Fewer values for SVC_C.\n",
    "One value for SVC_Gamma.\n",
    "Use of just linear kernel.\n",
    "\n",
    "This is is the original code:\n",
    "\n",
    "**Original SVM Model**\n",
    "\n",
    "1.Create a pipeline\n",
    "pipe = Pipeline([('scaler', MinMaxScaler()),\n",
    "                 ('svc',SVC())])\n",
    "\n",
    "2.Create space of candidate learning algorithms and their hyperparameters\n",
    "param_grid = {'svc__C': [1, 10, 100],  \n",
    "              'svc__gamma': [0.01, 0.001], \n",
    "              'svc__kernel': ['linear', 'sigmoid']}  \n",
    "\n",
    "3.Create randomized search with 10-fold cross-validation and 20 iterations\n",
    "clf = RandomizedSearchCV(pipe, param_grid, cv=5, n_iter=20, n_jobs=-1, verbose=2)  \n",
    "\n",
    "4.Fit randomized search\n",
    "best_model = clf.fit(X_train, y_train)\n",
    "\n",
    "**Output**\n",
    "\n",
    "Fitting 5 folds for each of 12 candidates, totalling 60 fits\n",
    "[CV] END ......svc__C=1, svc__gamma=0.01, svc__kernel=linear; total time=  46.2s\n",
    "[CV] END ......svc__C=1, svc__gamma=0.01, svc__kernel=linear; total time=  45.1s\n",
    "[CV] END ......svc__C=1, svc__gamma=0.01, svc__kernel=linear; total time=  44.3s\n",
    "[CV] END ......svc__C=1, svc__gamma=0.01, svc__kernel=linear; total time=  45.9s\n",
    "[CV] END ......svc__C=1, svc__gamma=0.01, svc__kernel=linear; total time=  58.8s\n",
    "[CV] END .....svc__C=1, svc__gamma=0.01, svc__kernel=sigmoid; total time= 1.8min\n",
    "[CV] END .....svc__C=1, svc__gamma=0.01, svc__kernel=sigmoid; total time= 2.0min\n",
    "[CV] END .....svc__C=1, svc__gamma=0.01, svc__kernel=sigmoid; total time= 1.8min\n",
    "[CV] END .....svc__C=1, svc__gamma=0.01, svc__kernel=sigmoid; total time= 1.8min\n",
    "[CV] END .....svc__C=1, svc__gamma=0.01, svc__kernel=sigmoid; total time= 1.8min\n",
    "[CV] END .....svc__C=1, svc__gamma=0.001, svc__kernel=linear; total time=  46.9s\n",
    "[CV] END .....svc__C=1, svc__gamma=0.001, svc__kernel=linear; total time=  43.0s\n",
    "[CV] END .....svc__C=1, svc__gamma=0.001, svc__kernel=linear; total time=  42.1s\n",
    "[CV] END .....svc__C=1, svc__gamma=0.001, svc__kernel=linear; total time=  44.8s\n",
    "[CV] END .....svc__C=1, svc__gamma=0.001, svc__kernel=linear; total time=  59.8s\n",
    "[CV] END ....svc__C=1, svc__gamma=0.001, svc__kernel=sigmoid; total time= 1.5min\n",
    "[CV] END ....svc__C=1, svc__gamma=0.001, svc__kernel=sigmoid; total time= 1.4min\n",
    "[CV] END ....svc__C=1, svc__gamma=0.001, svc__kernel=sigmoid; total time= 1.5min\n",
    "[CV] END ....svc__C=1, svc__gamma=0.001, svc__kernel=sigmoid; total time= 1.5min\n",
    "[CV] END ....svc__C=1, svc__gamma=0.001, svc__kernel=sigmoid; total time= 1.5min\n",
    "[CV] END .....svc__C=10, svc__gamma=0.01, svc__kernel=linear; total time= 5.5min\n",
    "[CV] END .....svc__C=10, svc__gamma=0.01, svc__kernel=linear; total time= 5.5min\n",
    "[CV] END .....svc__C=10, svc__gamma=0.01, svc__kernel=linear; total time= 5.7min\n",
    "[CV] END .....svc__C=10, svc__gamma=0.01, svc__kernel=linear; total time= 5.2min\n",
    "[CV] END .....svc__C=10, svc__gamma=0.01, svc__kernel=linear; total time= 5.6min\n",
    "[CV] END ....svc__C=10, svc__gamma=0.01, svc__kernel=sigmoid; total time= 1.8min\n",
    "[CV] END ....svc__C=10, svc__gamma=0.01, svc__kernel=sigmoid; total time= 1.7min\n",
    "[CV] END ....svc__C=10, svc__gamma=0.01, svc__kernel=sigmoid; total time= 1.7min\n",
    "[CV] END ....svc__C=10, svc__gamma=0.01, svc__kernel=sigmoid; total time= 1.8min\n",
    "[CV] END ....svc__C=10, svc__gamma=0.01, svc__kernel=sigmoid; total time= 1.8min\n",
    "[CV] END ....svc__C=10, svc__gamma=0.001, svc__kernel=linear; total time= 5.4min\n",
    "[CV] END ....svc__C=10, svc__gamma=0.001, svc__kernel=linear; total time= 5.4min\n",
    "[CV] END ....svc__C=10, svc__gamma=0.001, svc__kernel=linear; total time= 5.7min\n",
    "[CV] END ....svc__C=10, svc__gamma=0.001, svc__kernel=linear; total time= 5.1min\n",
    "[CV] END ....svc__C=10, svc__gamma=0.001, svc__kernel=linear; total time= 5.5min\n",
    "[CV] END ...svc__C=10, svc__gamma=0.001, svc__kernel=sigmoid; total time= 1.3min\n",
    "[CV] END ...svc__C=10, svc__gamma=0.001, svc__kernel=sigmoid; total time= 1.2min\n",
    "[CV] END ...svc__C=10, svc__gamma=0.001, svc__kernel=sigmoid; total time= 1.2min\n",
    "[CV] END ...svc__C=10, svc__gamma=0.001, svc__kernel=sigmoid; total time= 1.3min\n",
    "[CV] END ...svc__C=10, svc__gamma=0.001, svc__kernel=sigmoid; total time= 1.3min\n",
    "[CV] END ....svc__C=100, svc__gamma=0.01, svc__kernel=linear; total time= 6.3min\n",
    "[CV] END ....svc__C=100, svc__gamma=0.01, svc__kernel=linear; total time= 5.2min\n",
    "[CV] END ....svc__C=100, svc__gamma=0.01, svc__kernel=linear; total time= 5.0min\n",
    "[CV] END ....svc__C=100, svc__gamma=0.01, svc__kernel=linear; total time= 5.8min\n",
    "[CV] END ....svc__C=100, svc__gamma=0.01, svc__kernel=linear; total time= 5.8min\n",
    "[CV] END ...svc__C=100, svc__gamma=0.01, svc__kernel=sigmoid; total time= 2.0min\n",
    "[CV] END ...svc__C=100, svc__gamma=0.01, svc__kernel=sigmoid; total time= 1.9min\n",
    "[CV] END ...svc__C=100, svc__gamma=0.01, svc__kernel=sigmoid; total time= 2.1min\n",
    "[CV] END ...svc__C=100, svc__gamma=0.01, svc__kernel=sigmoid; total time= 1.9min\n",
    "[CV] END ...svc__C=100, svc__gamma=0.01, svc__kernel=sigmoid; total time= 2.0min\n",
    "[CV] END ...svc__C=100, svc__gamma=0.001, svc__kernel=linear; total time= 6.5min\n",
    "[CV] END ...svc__C=100, svc__gamma=0.001, svc__kernel=linear; total time= 5.3min\n",
    "[CV] END ...svc__C=100, svc__gamma=0.001, svc__kernel=linear; total time= 5.0min\n",
    "[CV] END ...svc__C=100, svc__gamma=0.001, svc__kernel=linear; total time= 6.0min\n",
    "[CV] END ...svc__C=100, svc__gamma=0.001, svc__kernel=linear; total time= 5.8min\n",
    "[CV] END ..svc__C=100, svc__gamma=0.001, svc__kernel=sigmoid; total time= 1.3min\n",
    "[CV] END ..svc__C=100, svc__gamma=0.001, svc__kernel=sigmoid; total time= 1.3min\n",
    "[CV] END ..svc__C=100, svc__gamma=0.001, svc__kernel=sigmoid; total time= 1.3min\n",
    "[CV] END ..svc__C=100, svc__gamma=0.001, svc__kernel=sigmoid; total time= 1.3min\n",
    "[CV] END ..svc__C=100, svc__gamma=0.001, svc__kernel=sigmoid; total time= 1.2min\n",
    "\n",
    "**Original output for the hyperparameters tunning**\n",
    "Best Hyperparameters:\n",
    " {'memory': None, 'steps': [('scaler', MinMaxScaler()), ('svc', SVC(C=1, gamma=0.01, kernel='linear'))], 'verbose': False, 'scaler': MinMaxScaler(), 'svc': SVC(C=1, gamma=0.01, kernel='linear'), 'scaler__clip': False, 'scaler__copy': True, 'scaler__feature_range': (0, 1), 'svc__C': 1, 'svc__break_ties': False, 'svc__cache_size': 200, 'svc__class_weight': None, 'svc__coef0': 0.0, 'svc__decision_function_shape': 'ovr', 'svc__degree': 3, 'svc__gamma': 0.01, 'svc__kernel': 'linear', 'svc__max_iter': -1, 'svc__probability': False, 'svc__random_state': None, 'svc__shrinking': True, 'svc__tol': 0.001, 'svc__verbose': False}\n",
    "Best Score: 0.6333228865393972"
   ]
  },
  {
   "cell_type": "code",
   "execution_count": 250,
   "metadata": {
    "ExecuteTime": {
     "end_time": "2023-06-16T09:20:55.404742Z",
     "start_time": "2023-06-16T07:56:43.094048Z"
    },
    "scrolled": false
   },
   "outputs": [
    {
     "name": "stdout",
     "output_type": "stream",
     "text": [
      "Fitting 3 folds for each of 2 candidates, totalling 6 fits\n",
      "[CV] END ......svc__C=1, svc__gamma=0.01, svc__kernel=linear; total time=  31.7s\n",
      "[CV] END ......svc__C=1, svc__gamma=0.01, svc__kernel=linear; total time=  32.8s\n",
      "[CV] END ......svc__C=1, svc__gamma=0.01, svc__kernel=linear; total time=  33.0s\n",
      "[CV] END .....svc__C=10, svc__gamma=0.01, svc__kernel=linear; total time= 3.2min\n",
      "[CV] END .....svc__C=10, svc__gamma=0.01, svc__kernel=linear; total time= 3.3min\n",
      "[CV] END .....svc__C=10, svc__gamma=0.01, svc__kernel=linear; total time= 3.1min\n"
     ]
    }
   ],
   "source": [
    "# SVM Model with Faster Execution\n",
    "\n",
    "# Create a pipeline with scaling and SVC\n",
    "pipe = Pipeline([('scaler', MinMaxScaler()),\n",
    "                 ('svc', SVC())])\n",
    "\n",
    "# Reduce hyperparameter search space\n",
    "param_grid = {\n",
    "    'svc__C': [1, 10],  \n",
    "    'svc__gamma': [0.01],  \n",
    "    'svc__kernel': ['linear']  \n",
    "}\n",
    "\n",
    "# Create randomized search with 3-fold cross-validation and 5 iterations\n",
    "clf = RandomizedSearchCV(pipe, param_grid, cv=3, n_iter=5, n_jobs=-1, verbose=2)\n",
    "\n",
    "# Fit randomized search\n",
    "best_model = clf.fit(X_train, y_train)\n"
   ]
  },
  {
   "cell_type": "markdown",
   "metadata": {},
   "source": [
    "Now we'll review the hyperparameters that produced the best model and the score that was achieved. \n",
    "\n",
    "This helps us to understand the configuration of the model that worked best and gives insights into its effectiveness."
   ]
  },
  {
   "cell_type": "code",
   "execution_count": null,
   "metadata": {
    "ExecuteTime": {
     "end_time": "2023-06-16T09:20:55.464830Z",
     "start_time": "2023-06-16T09:20:55.458936Z"
    },
    "scrolled": true
   },
   "outputs": [],
   "source": [
    "# Print the best hyperparameters \n",
    "best_hyperparams = best_model.best_estimator_.get_params()\n",
    "print('Best Hyperparameters:\\n', best_hyperparams)\n",
    "\n",
    "# Print the best score \n",
    "best_score = best_model.best_score_\n",
    "print('Best Score:', best_score)"
   ]
  },
  {
   "cell_type": "markdown",
   "metadata": {},
   "source": [
    "The model achieved an accuracy of approximately 63.3%, which indicates it correctly predicted the outcome about two-thirds of the time."
   ]
  },
  {
   "cell_type": "code",
   "execution_count": null,
   "metadata": {},
   "outputs": [],
   "source": [
    "# LOGISTIC REGRESSION\n",
    "\n",
    "# Define a pipeline that first scales the features using MinMaxScaler and then applies Logistic Regression\n",
    "log_pipeline = Pipeline([\n",
    "    ('scaler', MinMaxScaler()),\n",
    "    ('logreg', LogisticRegression())  \n",
    "])\n",
    "\n",
    "# Defining the hyperparameter grid for Logistic Regression\n",
    "log_param_grid = {\n",
    "    'logreg__C': uniform(loc=0, scale=2),  \n",
    "    'logreg__penalty': ['l1', 'l2', 'elastic-net'],  \n",
    "    'logreg__solver': ['newton-cg', 'liblinear']  \n",
    "}\n",
    "\n",
    "# Initialize RandomizedSearchCV for hyperparameter tuning\n",
    "log_random_cv = RandomizedSearchCV(\n",
    "    log_pipeline,  \n",
    "    param_distributions=log_param_grid,  \n",
    "    n_iter=30,  \n",
    "    cv=3, \n",
    "    verbose=2,  \n",
    "    n_jobs=-1,  \n",
    "    random_state=42  \n",
    ")\n",
    "\n",
    "# Fitting the RandomizedSearchCV model on the training data\n",
    "log_random_cv.fit(X_train, y_train)\n",
    "\n"
   ]
  },
  {
   "cell_type": "code",
   "execution_count": null,
   "metadata": {},
   "outputs": [],
   "source": [
    "# Print the best hyperparameters \n",
    "print(\"Best Parameters: \", log_random_cv.best_params_)\n",
    "\n",
    "# Print the best score obtained\n",
    "print(\"Best Score: \", log_random_cv.best_score_)"
   ]
  },
  {
   "cell_type": "markdown",
   "metadata": {},
   "source": [
    "The Logistic Regression model, with the best hyperparameters achieved a 63.37% accuracy. \n",
    "\n",
    "\n",
    "After trying to improve the Logistic Regression and SVM models by adjusting their settings (hyperparameter tuning), we didn't see any big changes in their performance. Sometimes, the default settings of a model are already quite good, and small changes don’t lead to better results. Even though we made changes to the settings, the accuracy of the models didn't improve much. This doesn't mean the models are bad; it just means the default settings were already doing a good job.\n",
    "\n",
    "SVM and Logistic Regression have similar scores, so we're deciding to continue with the SVM model since it's performing just as well as the others.\n"
   ]
  },
  {
   "cell_type": "markdown",
   "metadata": {},
   "source": [
    "## Classification Report\n",
    "In order to  visualize the results of a classification report we will plot different heat maps. \n",
    "A classification report provides important metrics like precision, recall, F1-score, and support for each class. We decided to plot the classification report rather than present it in text form."
   ]
  },
  {
   "cell_type": "code",
   "execution_count": null,
   "metadata": {
    "ExecuteTime": {
     "end_time": "2023-06-17T06:41:15.645447Z",
     "start_time": "2023-06-17T06:40:39.700371Z"
    }
   },
   "outputs": [],
   "source": [
    "# Make predictions using the trained classifier on the test data\n",
    "y_pred = clf.predict(X_test)\n",
    "\n",
    "# Calculate the confusion matrix, comparing true labels (y_test) and predicted labels (y_pred)\n",
    "cm = confusion_matrix(y_test, y_pred)\n",
    "\n",
    "# Create a heatmap for the confusion matrix\n",
    "#plt.figure(figsize=(8, 6)) \n",
    "sns.heatmap(cm, annot=True, fmt='d', cmap='Purples')\n",
    "\n",
    "# Add labels and title\n",
    "plt.ylabel('True Label')\n",
    "plt.xlabel('Predicted Label')\n",
    "plt.title('Confusion Matrix')\n",
    "plt.show()\n",
    "\n",
    "print(classification_report(y_test, y_pred))"
   ]
  },
  {
   "cell_type": "markdown",
   "metadata": {},
   "source": [
    "A confusion matrix for a binary classification problem has four values:\n",
    "\n",
    "-True Positives (TP): The number of instances correctly classified as Class 1 (positive outcome).\n",
    "-False Positives (FP): The number of instances incorrectly classified as Class 1 when they are actually Class 0.\n",
    "-False Negatives (FN): The number of instances incorrectly classified as Class 0 when they are actually Class 1.\n",
    "-True Negatives (TN): The number of instances correctly classified as Class 0 (negative outcome).\n",
    "\n",
    "Our matrix shows:\n",
    "-True Positives (TP): 3402 instances correctly predicted as Class 1.\n",
    "-True Negatives (TN): 12282 instances correctly predicted as Class 0.\n",
    "-False Positives (FP): 2784 instances incorrectly predicted as Class 1 (they should have been Class 0).\n",
    "-False Negatives (FN): 6224 instances incorrectly predicted as Class 0 (they should have been Class 1).\n",
    "\n",
    "The model correctly predicted 15684 instances, with strong performance on Class 0 (82% recall) but weaker results on Class 1 (35% recall). This indicates the model is better at identifying negative cases (Class 0) than positive cases (Class 1), leading to a bias towards Class 0 predictions."
   ]
  },
  {
   "cell_type": "markdown",
   "metadata": {},
   "source": [
    "To understand how well the model distinguishes between positives and negatives, we decide to explor the ROC Curve. The AUC (Area Under the Curve) summarizes this performance into a single score, where higher values (closer to 1) indicate a better-performing model."
   ]
  },
  {
   "cell_type": "code",
   "execution_count": null,
   "metadata": {},
   "outputs": [],
   "source": [
    "# Calculate the false positive rate and true positive rate\n",
    "fpr, tpr, _ = roc_curve(y_test, y_pred)  \n",
    "\n",
    "# Plotting the ROC Curve\n",
    "plt.plot(fpr, tpr, label=f'ROC Curve (AUC = {auc(fpr, tpr):.2f})') \n",
    "plt.plot([0, 1], [0, 1], linestyle='--', color='gray', label='Random Classifier') \n",
    "\n",
    "# Labels x and y axis.\n",
    "plt.xlabel('False Positive Rate (FPR)', fontsize=12)  \n",
    "plt.ylabel('True Positive Rate (TPR)', fontsize=12)  \n",
    "\n",
    "#Title\n",
    "plt.title('ROC Curve', fontsize=14)  \n",
    "plt.legend(fontsize=10) \n",
    "plt.grid(True, linestyle='--', alpha=0.7)  \n",
    "\n",
    "# Show plot\n",
    "plt.show()"
   ]
  },
  {
   "cell_type": "code",
   "execution_count": null,
   "metadata": {},
   "outputs": [],
   "source": [
    "# Calculate and print the Area Under the ROC Curve (AUC)\n",
    "roc_auc = auc(fpr, tpr) \n",
    "print('AUC-ROC:', round(roc_auc * 100, 2))"
   ]
  },
  {
   "cell_type": "markdown",
   "metadata": {},
   "source": [
    "An AUC-ROC score of 58.43 (out of 100) indicates that the model has a slightly better-than-random chance (50%) of correctly distinguishing between the two classes.\n",
    "In essence, while the model shows potential, its classification ability is still weak and likely requires further refinement."
   ]
  },
  {
   "cell_type": "code",
   "execution_count": 75,
   "metadata": {
    "ExecuteTime": {
     "end_time": "2023-06-16T10:09:47.737327Z",
     "start_time": "2023-06-16T10:09:47.339961Z"
    },
    "scrolled": true
   },
   "outputs": [
    {
     "name": "stdout",
     "output_type": "stream",
     "text": [
      "AUC-ROC: 58.43\n"
     ]
    },
    {
     "data": {
      "image/png": "[encoded data removed]",
      "text/plain": [
       "<Figure size 640x480 with 1 Axes>"
      ]
     },
     "metadata": {},
     "output_type": "display_data"
    }
   ],
   "source": [
    "# ROC CURVE\n",
    "\n",
    "# Calculate the false positive rand and true positive rate\n",
    "fpr, tpr, _ = roc_curve(y_test, y_pred)\n",
    "\n",
    "# Plotting ROC curve\n",
    "plt.plot(fpr, tpr, label='ROC curve')\n",
    "plt.plot([0, 1], [0, 1], linestyle='--')  # diagonal line\n",
    "plt.xlabel('False Positive Rate')\n",
    "plt.ylabel('True Positive Rate')\n",
    "plt.title('Receiver Operating Characteristic')\n",
    "plt.legend()\n",
    "\n",
    "# Calculating and display AUC-ROC\n",
    "roc_auc = auc(fpr, tpr)\n",
    "print('AUC-ROC:',(round( roc_auc*100,2)))"
   ]
  },
  {
   "cell_type": "markdown",
   "metadata": {},
   "source": [
    " The AUC-ROC score is approximately 0.584. This indicates that our model has a modest ability to distinguish between the classes in your binary classification problem. In other words, given a random positive instance and a random negative instance, there's roughly a 58.4% chance that the model will rank the positive instance higher than the negative one."
   ]
  },
  {
   "cell_type": "markdown",
   "metadata": {},
   "source": [
    "#ANALYSIS CONCLUSION\n",
    "In this project, I worked with datasets from Starbucks to create a model that predicts whether a customer will complete an offer after seeing it. I started by exploring the data to understand its structure and patterns. After that, I cleaned and prepared the data for modeling by creating new features that made the data easier to use. I also turned some columns into dummy variables to avoid bias in the model. This step took a lot of time and effort, as it involved cleaning and changing the data to make it ready for the next steps.\n",
    "\n",
    "Based on the results from my model, it seems that predicting whether a customer will complete an offer after seeing it is still challenging. With an accuracy of around 63%, the model's predictions are not very strong, meaning it is not consistently accurate in determining whether a customer will engage with the offer.\n",
    "\n",
    "In other words, the model can make some correct predictions, but it is not yet reliable enough for me to confidently predict customer behavior. To improve this, I could focus on enhancing the model by addressing issues like data imbalance, adding more relevant features, or experimenting with more advanced techniques like deep learning, which could lead to better results."
   ]
  },
  {
   "cell_type": "markdown",
   "metadata": {},
   "source": [
    "#RESOURCES\n",
    "-1. Scikit-learn Algorithms information. https://scikit-learn.org/stable/\n",
    "-2. Random forest classifier. https://scikit-learn.org/stable/modules/generated/sklearn.ensemble.RandomForestClassifier.html\n",
    "-3. Logistic Refression. Details to implement and tume LR. https://scikit-learn.org/stable/modules/generated/sklearn.linear_model.LogisticRegression.html\n",
    "https://www.youtube.com/watch?v=HYcXgN9HaTM\n",
    "-4. SVM. Model and implementation. https://scikit-learn.org/stable/modules/generated/sklearn.svm.SVC.html \n",
    "https://www.youtube.com/watch?v=_YPScrckx28\n",
    "https://www.youtube.com/watch?v=7sz4WpkUIIs\n",
    "-5. Naive Bayes. https://scikit-learn.org/stable/modules/naive_bayes.html\n",
    "-6. Decision trees. https://scikit-learn.org/stable/modules/generated/sklearn.tree.DecisionTreeClassifier.html\n",
    "-7. KNN. https://scikit-learn.org/stable/modules/generated/sklearn.neighbors.KNeighborsClassifier.html\n",
    "-8. Cross validation, grid search. https://scikit-learn.org/stable/modules/cross_validation.html\n",
    "https://scikit-learn.org/stable/modules/generated/sklearn.model_selection.GridSearchCV.html\n",
    "-9. ROC Curve. https://scikit-learn.org/stable/modules/generated/sklearn.metrics.roc_curve.html\n",
    "-10. Auc. https://scikit-learn.org/stable/modules/generated/sklearn.metrics.auc.html\n",
    "https://www.youtube.com/watch?v=TEkvKx2tQHU\n",
    "https://www.youtube.com/watch?v=TmhzUdPpVPQ\n",
    "-11. Pandas.https://pandas.pydata.org/pandas-docs/stable/\n",
    "-12. Matplotlib.https://matplotlib.org/stable/contents.html\n",
    "-13. Seaborn.https://seaborn.pydata.org/\n",
    "-14. Others:\n",
    "Categorical conversion. https://www.youtube.com/watch?v=fyHaUMX9y0A\n",
    "Handling missing values. https://www.youtube.com/watch?v=uDr67HBIPz8\n",
    "Confussion matrix. https://www.youtube.com/watch?v=H2M3fT1njXQ"
   ]
  }
 ],
 "metadata": {
  "kernelspec": {
   "display_name": "Python 3 (ipykernel)",
   "language": "python",
   "name": "python3"
  },
  "language_info": {
   "codemirror_mode": {
    "name": "ipython",
    "version": 3
   },
   "file_extension": ".py",
   "mimetype": "text/x-python",
   "name": "python",
   "nbconvert_exporter": "python",
   "pygments_lexer": "ipython3",
   "version": "3.10.13"
  }
 },
 "nbformat": 4,
 "nbformat_minor": 2
}
